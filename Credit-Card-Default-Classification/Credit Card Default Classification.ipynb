{
 "cells": [
  {
   "cell_type": "markdown",
   "metadata": {},
   "source": [
    "# Credit Card Default Classification"
   ]
  },
  {
   "cell_type": "markdown",
   "metadata": {},
   "source": [
    "# <font color='red'>Step 1 Classification using Gradient Descent and `spicy` function</font>"
   ]
  },
  {
   "cell_type": "markdown",
   "metadata": {},
   "source": [
    "###  <font color='blue'>1.1 Download the data </font>"
   ]
  },
  {
   "cell_type": "code",
   "execution_count": 1,
   "metadata": {},
   "outputs": [],
   "source": [
    "# Libraries\n",
    "import numpy as np\n",
    "import pandas as pd\n",
    "import seaborn as sns\n",
    "import matplotlib.pyplot as plt\n",
    "from scipy.optimize import minimize"
   ]
  },
  {
   "cell_type": "code",
   "execution_count": 2,
   "metadata": {},
   "outputs": [
    {
     "data": {
      "text/html": [
       "<div>\n",
       "<style scoped>\n",
       "    .dataframe tbody tr th:only-of-type {\n",
       "        vertical-align: middle;\n",
       "    }\n",
       "\n",
       "    .dataframe tbody tr th {\n",
       "        vertical-align: top;\n",
       "    }\n",
       "\n",
       "    .dataframe thead th {\n",
       "        text-align: right;\n",
       "    }\n",
       "</style>\n",
       "<table border=\"1\" class=\"dataframe\">\n",
       "  <thead>\n",
       "    <tr style=\"text-align: right;\">\n",
       "      <th></th>\n",
       "      <th>AGE</th>\n",
       "      <th>INCOME</th>\n",
       "      <th>DEFAULT</th>\n",
       "    </tr>\n",
       "  </thead>\n",
       "  <tbody>\n",
       "    <tr>\n",
       "      <th>0</th>\n",
       "      <td>30.250000</td>\n",
       "      <td>9.986667</td>\n",
       "      <td>1</td>\n",
       "    </tr>\n",
       "    <tr>\n",
       "      <th>1</th>\n",
       "      <td>29.583334</td>\n",
       "      <td>10.000000</td>\n",
       "      <td>1</td>\n",
       "    </tr>\n",
       "    <tr>\n",
       "      <th>2</th>\n",
       "      <td>33.000000</td>\n",
       "      <td>10.400000</td>\n",
       "      <td>1</td>\n",
       "    </tr>\n",
       "    <tr>\n",
       "      <th>3</th>\n",
       "      <td>42.416668</td>\n",
       "      <td>11.666667</td>\n",
       "      <td>0</td>\n",
       "    </tr>\n",
       "    <tr>\n",
       "      <th>4</th>\n",
       "      <td>37.250000</td>\n",
       "      <td>12.500000</td>\n",
       "      <td>1</td>\n",
       "    </tr>\n",
       "  </tbody>\n",
       "</table>\n",
       "</div>"
      ],
      "text/plain": [
       "         AGE     INCOME  DEFAULT\n",
       "0  30.250000   9.986667        1\n",
       "1  29.583334  10.000000        1\n",
       "2  33.000000  10.400000        1\n",
       "3  42.416668  11.666667        0\n",
       "4  37.250000  12.500000        1"
      ]
     },
     "execution_count": 2,
     "metadata": {},
     "output_type": "execute_result"
    }
   ],
   "source": [
    "# Define X and Y\n",
    "df = pd.read_excel('DataDefault.xlsx') \n",
    "df.head()"
   ]
  },
  {
   "cell_type": "markdown",
   "metadata": {},
   "source": [
    "###  <font color='blue'>1.2 Plot the data </font>"
   ]
  },
  {
   "cell_type": "code",
   "execution_count": 3,
   "metadata": {},
   "outputs": [
    {
     "data": {
      "text/plain": [
       "<matplotlib.legend.Legend at 0x120ac5bb0>"
      ]
     },
     "execution_count": 3,
     "metadata": {},
     "output_type": "execute_result"
    },
    {
     "data": {
      "image/png": "[encoded data removed]",
      "text/plain": [
       "<Figure size 432x288 with 1 Axes>"
      ]
     },
     "metadata": {
      "needs_background": "light"
     },
     "output_type": "display_data"
    }
   ],
   "source": [
    "# Define X and Y \n",
    "X = df.drop('DEFAULT',axis=1).values\n",
    "Y = df['DEFAULT'].values\n",
    "\n",
    "# Separate to default and no-default\n",
    "pos, neg = Y==1, Y==0\n",
    "plt.scatter(X[pos,0], X[pos,1], c=\"r\", marker=\"+\")\n",
    "plt.scatter(X[neg,0], X[neg,1], c=\"b\",marker=\"x\")\n",
    "\n",
    "plt.xlabel('Age')\n",
    "plt.ylabel('Income')\n",
    "plt.legend(['Default', 'Not default'], loc=2)"
   ]
  },
  {
   "cell_type": "markdown",
   "metadata": {},
   "source": [
    "###  <font color='blue'>1.3 Write functions for sigmoid, cost function, hypothesis function and gradient descent  </font>"
   ]
  },
  {
   "cell_type": "code",
   "execution_count": 4,
   "metadata": {},
   "outputs": [],
   "source": [
    "def sigmoid(z):    \n",
    "    g = 1 / (1 + np.exp(-z))\n",
    "    return g"
   ]
  },
  {
   "cell_type": "code",
   "execution_count": 5,
   "metadata": {},
   "outputs": [],
   "source": [
    "def costFunction(theta, X, y):  \n",
    "    J = (1 / len(y)) * np.sum(-y.dot(np.log(sigmoid(X @ theta))) - (1 - y).dot(np.log(1 - sigmoid(X @ theta))))\n",
    "    return J"
   ]
  },
  {
   "cell_type": "code",
   "execution_count": 6,
   "metadata": {},
   "outputs": [],
   "source": [
    "def hypothesis(X,theta): \n",
    "    h = sigmoid(X @ theta)\n",
    "    return h"
   ]
  },
  {
   "cell_type": "code",
   "execution_count": 7,
   "metadata": {},
   "outputs": [],
   "source": [
    "def gradient_descent( X, y, theta, alpha, num_iters):\n",
    "    \n",
    "    m = len(X[0])\n",
    "    J_history =[]\n",
    "    \n",
    "    for i in range(num_iters):   \n",
    "        theta = theta - (alpha/m) * np.dot(X.transpose(), (sigmoid(X @ theta) - y) )  \n",
    "        J_history.append(costFunction(theta, X, y))\n",
    "        \n",
    "    return theta, J_history"
   ]
  },
  {
   "cell_type": "markdown",
   "metadata": {},
   "source": [
    "###  <font color='blue'>1.4 Report the cost for a theta of zeros  </font>"
   ]
  },
  {
   "cell_type": "code",
   "execution_count": 9,
   "metadata": {},
   "outputs": [],
   "source": [
    "# Initialize fitting parameters\n",
    "m = len(Y)\n",
    "X = np.concatenate([np.ones((m, 1)), X], axis=1)\n",
    "initial_theta = np.zeros((X.shape[1], 1))\n",
    "\n",
    "# Compute and display initial cost and gradient for logistic regression\n",
    "cost = costFunction(initial_theta, X, Y)"
   ]
  },
  {
   "cell_type": "code",
   "execution_count": 10,
   "metadata": {},
   "outputs": [
    {
     "name": "stdout",
     "output_type": "stream",
     "text": [
      "Cost at initial theta (zeros): 0.6931471805599453\n"
     ]
    }
   ],
   "source": [
    "print(\"Cost at initial theta (zeros):\", cost)"
   ]
  },
  {
   "cell_type": "markdown",
   "metadata": {},
   "source": [
    "###  <font color='blue'>1.5 Find solutions using gradient descent  </font>"
   ]
  },
  {
   "cell_type": "code",
   "execution_count": 11,
   "metadata": {},
   "outputs": [],
   "source": [
    "initial_theta = -1*np.ones(X.shape[1])\n",
    "alpha=0.0001\n",
    "iterations=1000000\n",
    "theta, J_history = gradient_descent(X, Y, initial_theta, alpha, iterations)"
   ]
  },
  {
   "cell_type": "code",
   "execution_count": 12,
   "metadata": {},
   "outputs": [
    {
     "name": "stdout",
     "output_type": "stream",
     "text": [
      "Theta is \t[20.725, -0.466, -0.212]\n",
      "The cost function is 0.5511721436911953\n"
     ]
    }
   ],
   "source": [
    "print('Theta is', '\\t[{:.3f}, {:.3f}, {:.3f}]'.format(*theta) )\n",
    "print('The cost function is', J_history[10000-1])"
   ]
  },
  {
   "cell_type": "code",
   "execution_count": 13,
   "metadata": {
    "scrolled": true
   },
   "outputs": [
    {
     "data": {
      "text/plain": [
       "Text(0.5, 1.0, 'Cost function using Gradient Descent')"
      ]
     },
     "execution_count": 13,
     "metadata": {},
     "output_type": "execute_result"
    },
    {
     "data": {
      "image/png": "[encoded data removed]",
      "text/plain": [
       "<Figure size 432x288 with 1 Axes>"
      ]
     },
     "metadata": {
      "needs_background": "light"
     },
     "output_type": "display_data"
    }
   ],
   "source": [
    "# plot cost function\n",
    "plt.plot(J_history)\n",
    "plt.xlabel(\"Iteration\")\n",
    "plt.ylabel(\"$J(\\Theta)$\")\n",
    "plt.title(\"Cost function using Gradient Descent\")"
   ]
  },
  {
   "cell_type": "markdown",
   "metadata": {},
   "source": [
    "###  <font color='blue'>1.6 Find solutions using spicy built-in function  </font>"
   ]
  },
  {
   "cell_type": "code",
   "execution_count": 14,
   "metadata": {},
   "outputs": [
    {
     "name": "stdout",
     "output_type": "stream",
     "text": [
      "Theta is \t[21.217, -0.478, -0.217]\n",
      "The cost function is 0.2637072640976708\n"
     ]
    }
   ],
   "source": [
    "theta_0 = [(1),(0),(1)]\n",
    "res = minimize(costFunction, theta_0 ,(X, Y))\n",
    "print('Theta is', '\\t[{:.3f}, {:.3f}, {:.3f}]'.format(*res.x) )\n",
    "print('The cost function is', res.fun)"
   ]
  },
  {
   "cell_type": "markdown",
   "metadata": {},
   "source": [
    "###  <font color='blue'>1.7 Compare results </font>"
   ]
  },
  {
   "cell_type": "code",
   "execution_count": 15,
   "metadata": {},
   "outputs": [
    {
     "name": "stdout",
     "output_type": "stream",
     "text": [
      "Theta from gradient descent is \t[20.725, -0.466, -0.212]\n"
     ]
    }
   ],
   "source": [
    "print('Theta from gradient descent is', '\\t[{:.3f}, {:.3f}, {:.3f}]'.format(*theta))"
   ]
  },
  {
   "cell_type": "code",
   "execution_count": 16,
   "metadata": {},
   "outputs": [
    {
     "name": "stdout",
     "output_type": "stream",
     "text": [
      "Theta from spicy function is \t[21.217, -0.478, -0.217]\n"
     ]
    }
   ],
   "source": [
    "print('Theta from spicy function is', '\\t[{:.3f}, {:.3f}, {:.3f}]'.format(*res.x))"
   ]
  },
  {
   "cell_type": "code",
   "execution_count": 17,
   "metadata": {},
   "outputs": [
    {
     "name": "stdout",
     "output_type": "stream",
     "text": [
      "The cost from gradient descent is 0.6931471805599453\n"
     ]
    }
   ],
   "source": [
    "print('The cost from gradient descent is', cost)"
   ]
  },
  {
   "cell_type": "code",
   "execution_count": 18,
   "metadata": {},
   "outputs": [
    {
     "name": "stdout",
     "output_type": "stream",
     "text": [
      "The cost from spicy function is 0.2637072640976708\n"
     ]
    }
   ],
   "source": [
    "print('The cost from spicy function is', res.fun)"
   ]
  },
  {
   "cell_type": "markdown",
   "metadata": {},
   "source": [
    "So coefficients estimated from both methods are fairly comparable, with the spicy built-in function generates smaller cost value than the gradient method does."
   ]
  },
  {
   "cell_type": "markdown",
   "metadata": {},
   "source": [
    "###  <font color='blue'>1.8 Plot the decision boundary </font>"
   ]
  },
  {
   "cell_type": "code",
   "execution_count": 19,
   "metadata": {},
   "outputs": [],
   "source": [
    "def mapFeaturePlot(x1,x2,degree):\n",
    "    \"\"\"\n",
    "    take in numpy array of x1 and x2, return all polynomial terms up to the given degree\n",
    "    \"\"\"\n",
    "    out = np.ones(1)\n",
    "    for i in range(1,degree+1):\n",
    "        for j in range(i+1):\n",
    "            terms= (x1**(i-j) * x2**j)\n",
    "            out= np.hstack((out,terms))\n",
    "    return out"
   ]
  },
  {
   "cell_type": "code",
   "execution_count": 20,
   "metadata": {},
   "outputs": [
    {
     "data": {
      "text/plain": [
       "<matplotlib.legend.Legend at 0x123467ac0>"
      ]
     },
     "execution_count": 20,
     "metadata": {},
     "output_type": "execute_result"
    },
    {
     "data": {
      "image/png": "[encoded data removed]",
      "text/plain": [
       "<Figure size 432x288 with 1 Axes>"
      ]
     },
     "metadata": {
      "needs_background": "light"
     },
     "output_type": "display_data"
    }
   ],
   "source": [
    "X = df.drop('DEFAULT',axis=1).values\n",
    "Y = df['DEFAULT'].values\n",
    "\n",
    "plt.scatter(X[pos,0], X[pos,1], c=\"r\",marker=\"+\",label=\"Admitted\")\n",
    "plt.scatter(X[neg,0], X[neg,1], c=\"b\",marker=\"x\",label=\"Not admitted\")\n",
    "\n",
    "# Plotting decision boundary\n",
    "\n",
    "u_vals = np.linspace(17,50,10)\n",
    "v_vals= np.linspace(5,40,10)\n",
    "z=np.zeros((len(u_vals),len(v_vals)))\n",
    "for i in range(len(u_vals)):\n",
    "    for j in range(len(v_vals)):\n",
    "        z[i,j] =mapFeaturePlot(u_vals[i],v_vals[j],1) @ theta \n",
    "\n",
    "plt.contour(u_vals,v_vals,z.T,0)\n",
    "plt.xlabel('Age')\n",
    "plt.ylabel('Income')\n",
    "plt.legend(['Default', 'Not default'], loc=2)"
   ]
  },
  {
   "cell_type": "markdown",
   "metadata": {},
   "source": [
    "# <font color='red'>Step 2: Classification using `scikit-learn`</font>"
   ]
  },
  {
   "cell_type": "code",
   "execution_count": 21,
   "metadata": {},
   "outputs": [],
   "source": [
    "# libraries\n",
    "from sklearn.linear_model import LogisticRegression"
   ]
  },
  {
   "cell_type": "code",
   "execution_count": 22,
   "metadata": {},
   "outputs": [],
   "source": [
    "# Define X and Y\n",
    "X = df.drop('DEFAULT',axis=1).values\n",
    "Y = df['DEFAULT'].values"
   ]
  },
  {
   "cell_type": "code",
   "execution_count": 23,
   "metadata": {},
   "outputs": [],
   "source": [
    "model = LogisticRegression(solver='lbfgs', random_state=0).fit(X, Y)"
   ]
  },
  {
   "cell_type": "code",
   "execution_count": 24,
   "metadata": {},
   "outputs": [
    {
     "name": "stdout",
     "output_type": "stream",
     "text": [
      "coefficients:  [[-0.47395046 -0.21563025]]\n",
      "intercept : [21.05876572]\n"
     ]
    }
   ],
   "source": [
    "print('coefficients: ',model.coef_)\n",
    "print('intercept :', model.intercept_)"
   ]
  },
  {
   "cell_type": "markdown",
   "metadata": {},
   "source": [
    "The coefficients $\\mathbf{\\theta}$ generated from the LogsticRegression function are similiar with the ones computed using the gradient descent method and the spicy built-in function."
   ]
  },
  {
   "cell_type": "markdown",
   "metadata": {},
   "source": [
    "# <font color='red'>Step 3: Features Mapping</font>"
   ]
  },
  {
   "cell_type": "markdown",
   "metadata": {},
   "source": [
    "###  <font color='blue'>3.1 Download the data and visualize</font>"
   ]
  },
  {
   "cell_type": "code",
   "execution_count": 25,
   "metadata": {},
   "outputs": [
    {
     "data": {
      "text/html": [
       "<div>\n",
       "<style scoped>\n",
       "    .dataframe tbody tr th:only-of-type {\n",
       "        vertical-align: middle;\n",
       "    }\n",
       "\n",
       "    .dataframe tbody tr th {\n",
       "        vertical-align: top;\n",
       "    }\n",
       "\n",
       "    .dataframe thead th {\n",
       "        text-align: right;\n",
       "    }\n",
       "</style>\n",
       "<table border=\"1\" class=\"dataframe\">\n",
       "  <thead>\n",
       "    <tr style=\"text-align: right;\">\n",
       "      <th></th>\n",
       "      <th>AGE</th>\n",
       "      <th>INCOME</th>\n",
       "      <th>DEFAULT</th>\n",
       "    </tr>\n",
       "  </thead>\n",
       "  <tbody>\n",
       "    <tr>\n",
       "      <th>0</th>\n",
       "      <td>30.250000</td>\n",
       "      <td>9.986667</td>\n",
       "      <td>1</td>\n",
       "    </tr>\n",
       "    <tr>\n",
       "      <th>1</th>\n",
       "      <td>29.583334</td>\n",
       "      <td>10.000000</td>\n",
       "      <td>1</td>\n",
       "    </tr>\n",
       "    <tr>\n",
       "      <th>2</th>\n",
       "      <td>33.000000</td>\n",
       "      <td>10.400000</td>\n",
       "      <td>1</td>\n",
       "    </tr>\n",
       "    <tr>\n",
       "      <th>3</th>\n",
       "      <td>42.416668</td>\n",
       "      <td>11.666667</td>\n",
       "      <td>0</td>\n",
       "    </tr>\n",
       "    <tr>\n",
       "      <th>4</th>\n",
       "      <td>37.250000</td>\n",
       "      <td>12.500000</td>\n",
       "      <td>1</td>\n",
       "    </tr>\n",
       "  </tbody>\n",
       "</table>\n",
       "</div>"
      ],
      "text/plain": [
       "         AGE     INCOME  DEFAULT\n",
       "0  30.250000   9.986667        1\n",
       "1  29.583334  10.000000        1\n",
       "2  33.000000  10.400000        1\n",
       "3  42.416668  11.666667        0\n",
       "4  37.250000  12.500000        1"
      ]
     },
     "execution_count": 25,
     "metadata": {},
     "output_type": "execute_result"
    }
   ],
   "source": [
    "# Define X and Y\n",
    "df = pd.read_excel('DataDefault.xlsx') \n",
    "df.head()"
   ]
  },
  {
   "cell_type": "code",
   "execution_count": 26,
   "metadata": {},
   "outputs": [
    {
     "data": {
      "text/plain": [
       "<matplotlib.legend.Legend at 0x129019c40>"
      ]
     },
     "execution_count": 26,
     "metadata": {},
     "output_type": "execute_result"
    },
    {
     "data": {
      "image/png": "[encoded data removed]",
      "text/plain": [
       "<Figure size 432x288 with 1 Axes>"
      ]
     },
     "metadata": {
      "needs_background": "light"
     },
     "output_type": "display_data"
    }
   ],
   "source": [
    "# Define X and Y \n",
    "X = df.drop('DEFAULT',axis=1).values\n",
    "Y = df['DEFAULT'].values\n",
    "\n",
    "# Separate to default and no-default\n",
    "pos, neg = Y==1, Y==0\n",
    "plt.scatter(X[pos,0], X[pos,1], c=\"r\", marker=\"+\")\n",
    "plt.scatter(X[neg,0], X[neg,1], c=\"b\",marker=\"x\")\n",
    "\n",
    "plt.xlabel('Age')\n",
    "plt.ylabel('Income')\n",
    "plt.legend(['Default', 'Not default'], loc=2)"
   ]
  },
  {
   "cell_type": "markdown",
   "metadata": {},
   "source": [
    "###  <font color='blue'>3.2 Map the features into higher degrees </font>"
   ]
  },
  {
   "cell_type": "code",
   "execution_count": 27,
   "metadata": {},
   "outputs": [],
   "source": [
    "def power(X,power):\n",
    "    X_power = []\n",
    "    for i in range(1,power+1):\n",
    "        X_power = np.power(X,i)\n",
    "        if i == 1:\n",
    "            X_new = X_power\n",
    "        else:\n",
    "            X_new = np.concatenate((X_new, X_power), axis = 1)\n",
    "    return X_new"
   ]
  },
  {
   "cell_type": "code",
   "execution_count": 28,
   "metadata": {
    "scrolled": true
   },
   "outputs": [
    {
     "data": {
      "text/html": [
       "<div>\n",
       "<style scoped>\n",
       "    .dataframe tbody tr th:only-of-type {\n",
       "        vertical-align: middle;\n",
       "    }\n",
       "\n",
       "    .dataframe tbody tr th {\n",
       "        vertical-align: top;\n",
       "    }\n",
       "\n",
       "    .dataframe thead th {\n",
       "        text-align: right;\n",
       "    }\n",
       "</style>\n",
       "<table border=\"1\" class=\"dataframe\">\n",
       "  <thead>\n",
       "    <tr style=\"text-align: right;\">\n",
       "      <th></th>\n",
       "      <th>DEFAULT</th>\n",
       "      <th>Age</th>\n",
       "      <th>Income</th>\n",
       "      <th>Age_degree2</th>\n",
       "      <th>Income_degree2</th>\n",
       "      <th>Age_degree3</th>\n",
       "      <th>Income_degree3</th>\n",
       "      <th>Age_degree4</th>\n",
       "      <th>Income_degree4</th>\n",
       "      <th>Age_degree5</th>\n",
       "      <th>Income_degree5</th>\n",
       "      <th>Age_degree6</th>\n",
       "      <th>Income_degree6</th>\n",
       "    </tr>\n",
       "  </thead>\n",
       "  <tbody>\n",
       "    <tr>\n",
       "      <th>0</th>\n",
       "      <td>1</td>\n",
       "      <td>30.250000</td>\n",
       "      <td>9.986667</td>\n",
       "      <td>915.062500</td>\n",
       "      <td>99.733511</td>\n",
       "      <td>27680.640625</td>\n",
       "      <td>996.005331</td>\n",
       "      <td>8.373394e+05</td>\n",
       "      <td>9946.77324</td>\n",
       "      <td>2.532952e+07</td>\n",
       "      <td>99335.108759</td>\n",
       "      <td>7.662179e+08</td>\n",
       "      <td>9.920266e+05</td>\n",
       "    </tr>\n",
       "    <tr>\n",
       "      <th>1</th>\n",
       "      <td>1</td>\n",
       "      <td>29.583334</td>\n",
       "      <td>10.000000</td>\n",
       "      <td>875.173651</td>\n",
       "      <td>100.000000</td>\n",
       "      <td>25890.554412</td>\n",
       "      <td>1000.000000</td>\n",
       "      <td>7.659289e+05</td>\n",
       "      <td>10000.00000</td>\n",
       "      <td>2.265873e+07</td>\n",
       "      <td>100000.000000</td>\n",
       "      <td>6.703208e+08</td>\n",
       "      <td>1.000000e+06</td>\n",
       "    </tr>\n",
       "    <tr>\n",
       "      <th>2</th>\n",
       "      <td>1</td>\n",
       "      <td>33.000000</td>\n",
       "      <td>10.400000</td>\n",
       "      <td>1089.000000</td>\n",
       "      <td>108.160000</td>\n",
       "      <td>35937.000000</td>\n",
       "      <td>1124.864000</td>\n",
       "      <td>1.185921e+06</td>\n",
       "      <td>11698.58560</td>\n",
       "      <td>3.913539e+07</td>\n",
       "      <td>121665.290240</td>\n",
       "      <td>1.291468e+09</td>\n",
       "      <td>1.265319e+06</td>\n",
       "    </tr>\n",
       "    <tr>\n",
       "      <th>3</th>\n",
       "      <td>0</td>\n",
       "      <td>42.416668</td>\n",
       "      <td>11.666667</td>\n",
       "      <td>1799.173716</td>\n",
       "      <td>136.111111</td>\n",
       "      <td>76314.953995</td>\n",
       "      <td>1587.962963</td>\n",
       "      <td>3.237026e+06</td>\n",
       "      <td>18526.23457</td>\n",
       "      <td>1.373039e+08</td>\n",
       "      <td>216139.403323</td>\n",
       "      <td>5.823972e+09</td>\n",
       "      <td>2.521626e+06</td>\n",
       "    </tr>\n",
       "    <tr>\n",
       "      <th>4</th>\n",
       "      <td>1</td>\n",
       "      <td>37.250000</td>\n",
       "      <td>12.500000</td>\n",
       "      <td>1387.562500</td>\n",
       "      <td>156.250000</td>\n",
       "      <td>51686.703125</td>\n",
       "      <td>1953.125000</td>\n",
       "      <td>1.925330e+06</td>\n",
       "      <td>24414.06250</td>\n",
       "      <td>7.171853e+07</td>\n",
       "      <td>305175.781250</td>\n",
       "      <td>2.671515e+09</td>\n",
       "      <td>3.814697e+06</td>\n",
       "    </tr>\n",
       "  </tbody>\n",
       "</table>\n",
       "</div>"
      ],
      "text/plain": [
       "   DEFAULT        Age     Income  Age_degree2  Income_degree2   Age_degree3  \\\n",
       "0        1  30.250000   9.986667   915.062500       99.733511  27680.640625   \n",
       "1        1  29.583334  10.000000   875.173651      100.000000  25890.554412   \n",
       "2        1  33.000000  10.400000  1089.000000      108.160000  35937.000000   \n",
       "3        0  42.416668  11.666667  1799.173716      136.111111  76314.953995   \n",
       "4        1  37.250000  12.500000  1387.562500      156.250000  51686.703125   \n",
       "\n",
       "   Income_degree3   Age_degree4  Income_degree4   Age_degree5  Income_degree5  \\\n",
       "0      996.005331  8.373394e+05      9946.77324  2.532952e+07    99335.108759   \n",
       "1     1000.000000  7.659289e+05     10000.00000  2.265873e+07   100000.000000   \n",
       "2     1124.864000  1.185921e+06     11698.58560  3.913539e+07   121665.290240   \n",
       "3     1587.962963  3.237026e+06     18526.23457  1.373039e+08   216139.403323   \n",
       "4     1953.125000  1.925330e+06     24414.06250  7.171853e+07   305175.781250   \n",
       "\n",
       "    Age_degree6  Income_degree6  \n",
       "0  7.662179e+08    9.920266e+05  \n",
       "1  6.703208e+08    1.000000e+06  \n",
       "2  1.291468e+09    1.265319e+06  \n",
       "3  5.823972e+09    2.521626e+06  \n",
       "4  2.671515e+09    3.814697e+06  "
      ]
     },
     "execution_count": 28,
     "metadata": {},
     "output_type": "execute_result"
    }
   ],
   "source": [
    "X_new = pd.DataFrame(power(X,6), \n",
    "                     columns=['Age', 'Income',\n",
    "                             'Age_degree2', 'Income_degree2',\n",
    "                             'Age_degree3', 'Income_degree3',\n",
    "                             'Age_degree4', 'Income_degree4',\n",
    "                             'Age_degree5', 'Income_degree5',\n",
    "                             'Age_degree6', 'Income_degree6'])\n",
    "\n",
    "XY = pd.DataFrame(pd.concat((pd.DataFrame(Y, columns=['DEFAULT']), pd.DataFrame(X_new)), axis = 1))\n",
    "XY.head()"
   ]
  },
  {
   "cell_type": "markdown",
   "metadata": {},
   "source": [
    "###  <font color='blue'>3.3 Divide the data into training (60%), cross validation (20%) and test (20%) set </font>"
   ]
  },
  {
   "cell_type": "code",
   "execution_count": 29,
   "metadata": {},
   "outputs": [],
   "source": [
    "train, validate, test = np.split(XY.sample(frac=1, random_state=42), \n",
    "                       [int(.6*len(df)), int(.8*len(df))])"
   ]
  },
  {
   "cell_type": "code",
   "execution_count": 30,
   "metadata": {},
   "outputs": [
    {
     "data": {
      "text/plain": [
       "(92, 13)"
      ]
     },
     "execution_count": 30,
     "metadata": {},
     "output_type": "execute_result"
    }
   ],
   "source": [
    "train.shape"
   ]
  },
  {
   "cell_type": "code",
   "execution_count": 31,
   "metadata": {},
   "outputs": [
    {
     "data": {
      "text/plain": [
       "(31, 13)"
      ]
     },
     "execution_count": 31,
     "metadata": {},
     "output_type": "execute_result"
    }
   ],
   "source": [
    "validate.shape"
   ]
  },
  {
   "cell_type": "code",
   "execution_count": 32,
   "metadata": {},
   "outputs": [
    {
     "data": {
      "text/plain": [
       "(31, 13)"
      ]
     },
     "execution_count": 32,
     "metadata": {},
     "output_type": "execute_result"
    }
   ],
   "source": [
    "test.shape"
   ]
  },
  {
   "cell_type": "markdown",
   "metadata": {},
   "source": [
    "###  <font color='blue'>3.4 Compute the cost of logistic regression on the training and CV samples</font>"
   ]
  },
  {
   "cell_type": "code",
   "execution_count": 33,
   "metadata": {},
   "outputs": [],
   "source": [
    "def sigmoid(z):    \n",
    "    g = 1 / (1 + np.exp(-z))\n",
    "    return g"
   ]
  },
  {
   "cell_type": "code",
   "execution_count": 34,
   "metadata": {},
   "outputs": [],
   "source": [
    "def CostFunctionLogistic(X, Y, degree):\n",
    "    cost = []\n",
    "    J = []\n",
    "    m = len(Y)\n",
    "    for i in range(1, degree+1):\n",
    "        # degree of X\n",
    "        X_degree = pd.DataFrame(X).iloc[:,0:2*i]\n",
    "        # logistic regression\n",
    "        log = LogisticRegression(solver='lbfgs', random_state=0).fit(X_degree, Y)\n",
    "        theta = np.concatenate([log.intercept_*np.ones((1, 1)),log.coef_],axis=1)\n",
    "        # include a constant\n",
    "        X = np.concatenate([np.ones((m, 1)), X_degree], axis=1)\n",
    "        # compute cost\n",
    "        J = (1 / len(Y)) * np.sum(Y.dot(np.log(sigmoid(X @ theta.T))) - (1 - Y).dot(np.log(1 - sigmoid(X @ theta.T))))\n",
    "        # append cost\n",
    "        cost.append(J)\n",
    "    return cost"
   ]
  },
  {
   "cell_type": "markdown",
   "metadata": {},
   "source": [
    "#### Training subsamples"
   ]
  },
  {
   "cell_type": "code",
   "execution_count": 35,
   "metadata": {},
   "outputs": [],
   "source": [
    "X_train = train.drop('DEFAULT',axis=1)\n",
    "Y_train = train['DEFAULT']"
   ]
  },
  {
   "cell_type": "code",
   "execution_count": 36,
   "metadata": {},
   "outputs": [
    {
     "data": {
      "text/html": [
       "<div>\n",
       "<style scoped>\n",
       "    .dataframe tbody tr th:only-of-type {\n",
       "        vertical-align: middle;\n",
       "    }\n",
       "\n",
       "    .dataframe tbody tr th {\n",
       "        vertical-align: top;\n",
       "    }\n",
       "\n",
       "    .dataframe thead th {\n",
       "        text-align: right;\n",
       "    }\n",
       "</style>\n",
       "<table border=\"1\" class=\"dataframe\">\n",
       "  <thead>\n",
       "    <tr style=\"text-align: right;\">\n",
       "      <th></th>\n",
       "      <th>degree</th>\n",
       "      <th>cost</th>\n",
       "    </tr>\n",
       "  </thead>\n",
       "  <tbody>\n",
       "    <tr>\n",
       "      <th>0</th>\n",
       "      <td>1</td>\n",
       "      <td>0.016188</td>\n",
       "    </tr>\n",
       "    <tr>\n",
       "      <th>1</th>\n",
       "      <td>2</td>\n",
       "      <td>0.016188</td>\n",
       "    </tr>\n",
       "    <tr>\n",
       "      <th>2</th>\n",
       "      <td>3</td>\n",
       "      <td>0.016184</td>\n",
       "    </tr>\n",
       "    <tr>\n",
       "      <th>3</th>\n",
       "      <td>4</td>\n",
       "      <td>0.016184</td>\n",
       "    </tr>\n",
       "    <tr>\n",
       "      <th>4</th>\n",
       "      <td>5</td>\n",
       "      <td>0.016184</td>\n",
       "    </tr>\n",
       "    <tr>\n",
       "      <th>5</th>\n",
       "      <td>6</td>\n",
       "      <td>0.016185</td>\n",
       "    </tr>\n",
       "  </tbody>\n",
       "</table>\n",
       "</div>"
      ],
      "text/plain": [
       "   degree      cost\n",
       "0       1  0.016188\n",
       "1       2  0.016188\n",
       "2       3  0.016184\n",
       "3       4  0.016184\n",
       "4       5  0.016184\n",
       "5       6  0.016185"
      ]
     },
     "execution_count": 36,
     "metadata": {},
     "output_type": "execute_result"
    }
   ],
   "source": [
    "cost_train = pd.DataFrame(CostFunctionLogistic(X_train, Y_train, 6), columns = ['cost'])\n",
    "cost_train['degree'] = cost_train.index + 1\n",
    "cost_train = cost_train.reindex(columns=['degree', 'cost'])\n",
    "cost_train"
   ]
  },
  {
   "cell_type": "markdown",
   "metadata": {},
   "source": [
    "#### CV subsamples"
   ]
  },
  {
   "cell_type": "code",
   "execution_count": 37,
   "metadata": {},
   "outputs": [],
   "source": [
    "X_validate = validate.drop('DEFAULT',axis=1)\n",
    "Y_validate = validate['DEFAULT']"
   ]
  },
  {
   "cell_type": "code",
   "execution_count": 38,
   "metadata": {},
   "outputs": [
    {
     "data": {
      "text/html": [
       "<div>\n",
       "<style scoped>\n",
       "    .dataframe tbody tr th:only-of-type {\n",
       "        vertical-align: middle;\n",
       "    }\n",
       "\n",
       "    .dataframe tbody tr th {\n",
       "        vertical-align: top;\n",
       "    }\n",
       "\n",
       "    .dataframe thead th {\n",
       "        text-align: right;\n",
       "    }\n",
       "</style>\n",
       "<table border=\"1\" class=\"dataframe\">\n",
       "  <thead>\n",
       "    <tr style=\"text-align: right;\">\n",
       "      <th></th>\n",
       "      <th>degree</th>\n",
       "      <th>cost</th>\n",
       "    </tr>\n",
       "  </thead>\n",
       "  <tbody>\n",
       "    <tr>\n",
       "      <th>0</th>\n",
       "      <td>1</td>\n",
       "      <td>0.020589</td>\n",
       "    </tr>\n",
       "    <tr>\n",
       "      <th>1</th>\n",
       "      <td>2</td>\n",
       "      <td>0.020589</td>\n",
       "    </tr>\n",
       "    <tr>\n",
       "      <th>2</th>\n",
       "      <td>3</td>\n",
       "      <td>0.020589</td>\n",
       "    </tr>\n",
       "    <tr>\n",
       "      <th>3</th>\n",
       "      <td>4</td>\n",
       "      <td>0.020589</td>\n",
       "    </tr>\n",
       "    <tr>\n",
       "      <th>4</th>\n",
       "      <td>5</td>\n",
       "      <td>0.020590</td>\n",
       "    </tr>\n",
       "    <tr>\n",
       "      <th>5</th>\n",
       "      <td>6</td>\n",
       "      <td>0.020589</td>\n",
       "    </tr>\n",
       "  </tbody>\n",
       "</table>\n",
       "</div>"
      ],
      "text/plain": [
       "   degree      cost\n",
       "0       1  0.020589\n",
       "1       2  0.020589\n",
       "2       3  0.020589\n",
       "3       4  0.020589\n",
       "4       5  0.020590\n",
       "5       6  0.020589"
      ]
     },
     "execution_count": 38,
     "metadata": {},
     "output_type": "execute_result"
    }
   ],
   "source": [
    "cost_validate = pd.DataFrame(CostFunctionLogistic(X_validate, Y_validate, 6), columns = ['cost'])\n",
    "cost_validate['degree'] = cost_validate.index + 1\n",
    "cost_validate = cost_validate.reindex(columns=['degree', 'cost'])\n",
    "cost_validate"
   ]
  },
  {
   "cell_type": "markdown",
   "metadata": {},
   "source": [
    "###  <font color='blue'>3.5 Plot the cost </font>"
   ]
  },
  {
   "cell_type": "code",
   "execution_count": 39,
   "metadata": {},
   "outputs": [
    {
     "data": {
      "image/png": "[encoded data removed]",
      "text/plain": [
       "<Figure size 432x288 with 1 Axes>"
      ]
     },
     "metadata": {
      "needs_background": "light"
     },
     "output_type": "display_data"
    }
   ],
   "source": [
    "import matplotlib.ticker as mtick\n",
    "\n",
    "plt.plot(cost_train['degree'], cost_train['cost'])\n",
    "plt.xlabel('Number of degrees')\n",
    "plt.ylabel('Cost of training sample')\n",
    "plt.title('Cost of training sample, degree 1-6')\n",
    "\n",
    "plt.gca().yaxis.set_major_formatter(mtick.FormatStrFormatter('%.6f'))"
   ]
  },
  {
   "cell_type": "code",
   "execution_count": 40,
   "metadata": {},
   "outputs": [
    {
     "data": {
      "image/png": "[encoded data removed]",
      "text/plain": [
       "<Figure size 432x288 with 1 Axes>"
      ]
     },
     "metadata": {
      "needs_background": "light"
     },
     "output_type": "display_data"
    }
   ],
   "source": [
    "plt.plot(cost_validate['degree'], cost_validate['cost'])\n",
    "plt.xlabel('Number of degrees')\n",
    "plt.ylabel('Cost in validation sample')\n",
    "plt.title('Cost of validation sample, degree 1-6')\n",
    "\n",
    "plt.gca().yaxis.set_major_formatter(mtick.FormatStrFormatter('%.6f'))"
   ]
  },
  {
   "cell_type": "markdown",
   "metadata": {},
   "source": [
    "###  <font color='blue'>3.6 Prediction over test set and report confusion matrix </font>"
   ]
  },
  {
   "cell_type": "code",
   "execution_count": 41,
   "metadata": {},
   "outputs": [],
   "source": [
    "import numpy as np\n",
    "import matplotlib.pyplot as plt\n",
    "import seaborn as sns\n",
    "from sklearn import metrics"
   ]
  },
  {
   "cell_type": "markdown",
   "metadata": {},
   "source": [
    "#### Minimize the cost of the training subsamples - degree 3"
   ]
  },
  {
   "cell_type": "code",
   "execution_count": 42,
   "metadata": {},
   "outputs": [],
   "source": [
    "X_test = test.drop('DEFAULT',axis=1)\n",
    "Y_test = test['DEFAULT']"
   ]
  },
  {
   "cell_type": "code",
   "execution_count": 43,
   "metadata": {},
   "outputs": [
    {
     "data": {
      "text/html": [
       "<div>\n",
       "<style scoped>\n",
       "    .dataframe tbody tr th:only-of-type {\n",
       "        vertical-align: middle;\n",
       "    }\n",
       "\n",
       "    .dataframe tbody tr th {\n",
       "        vertical-align: top;\n",
       "    }\n",
       "\n",
       "    .dataframe thead th {\n",
       "        text-align: right;\n",
       "    }\n",
       "</style>\n",
       "<table border=\"1\" class=\"dataframe\">\n",
       "  <thead>\n",
       "    <tr style=\"text-align: right;\">\n",
       "      <th></th>\n",
       "      <th>degree</th>\n",
       "      <th>cost</th>\n",
       "    </tr>\n",
       "  </thead>\n",
       "  <tbody>\n",
       "    <tr>\n",
       "      <th>2</th>\n",
       "      <td>3</td>\n",
       "      <td>-0.006312</td>\n",
       "    </tr>\n",
       "  </tbody>\n",
       "</table>\n",
       "</div>"
      ],
      "text/plain": [
       "   degree      cost\n",
       "2       3 -0.006312"
      ]
     },
     "execution_count": 43,
     "metadata": {},
     "output_type": "execute_result"
    }
   ],
   "source": [
    "cost_test = pd.DataFrame(CostFunctionLogistic(X_test, Y_test, 3), columns = ['cost'])\n",
    "cost_test['degree'] = cost_test.index + 1\n",
    "cost_test = cost_test.reindex(columns=['degree', 'cost'])\n",
    "cost_test = cost_test.iloc[-1:]\n",
    "cost_test"
   ]
  },
  {
   "cell_type": "code",
   "execution_count": 44,
   "metadata": {},
   "outputs": [
    {
     "data": {
      "text/plain": [
       "array([0, 1, 1, 1, 1, 0, 1, 1, 1, 1, 1, 0, 1, 1, 0, 1, 1, 0, 1, 1, 0, 1,\n",
       "       1, 0, 0, 0, 1, 0, 1, 1, 1])"
      ]
     },
     "execution_count": 44,
     "metadata": {},
     "output_type": "execute_result"
    }
   ],
   "source": [
    "logistic_d3 = LogisticRegression(solver='lbfgs', random_state=0).fit(X_train.iloc[:,0:2*3], Y_train)\n",
    "pred_d3 = logistic_d3.predict(X_test.iloc[:,0:2*3])\n",
    "pred_d3"
   ]
  },
  {
   "cell_type": "code",
   "execution_count": 45,
   "metadata": {},
   "outputs": [
    {
     "data": {
      "text/plain": [
       "array([[ 9,  2],\n",
       "       [ 1, 19]])"
      ]
     },
     "execution_count": 45,
     "metadata": {},
     "output_type": "execute_result"
    }
   ],
   "source": [
    "d3_matrix = metrics.confusion_matrix(Y_test,pred_d3)\n",
    "d3_matrix"
   ]
  },
  {
   "cell_type": "code",
   "execution_count": 46,
   "metadata": {},
   "outputs": [
    {
     "data": {
      "text/plain": [
       "Text(0.5, 257.44, 'Predicted label')"
      ]
     },
     "execution_count": 46,
     "metadata": {},
     "output_type": "execute_result"
    },
    {
     "data": {
      "image/png": "[encoded data removed]",
      "text/plain": [
       "<Figure size 432x288 with 2 Axes>"
      ]
     },
     "metadata": {
      "needs_background": "light"
     },
     "output_type": "display_data"
    }
   ],
   "source": [
    "class_names=[0,1] # name  of classes\n",
    "fig, ax = plt.subplots()\n",
    "tick_marks = np.arange(len(class_names))\n",
    "plt.xticks(tick_marks, class_names)\n",
    "plt.yticks(tick_marks, class_names)\n",
    "# create heatmap\n",
    "sns.heatmap(pd.DataFrame(d3_matrix), annot=True, cmap=\"YlGnBu\" ,fmt='g')\n",
    "ax.xaxis.set_label_position(\"top\")\n",
    "plt.tight_layout()\n",
    "plt.title('Confusion matrix', y=1.1)\n",
    "plt.ylabel('Actual label')\n",
    "plt.xlabel('Predicted label')"
   ]
  },
  {
   "cell_type": "code",
   "execution_count": 47,
   "metadata": {},
   "outputs": [
    {
     "name": "stdout",
     "output_type": "stream",
     "text": [
      "Accuracy: 0.9032258064516129\n",
      "Precision: 0.9047619047619048\n",
      "Recall: 0.95\n"
     ]
    }
   ],
   "source": [
    "print(\"Accuracy:\",metrics.accuracy_score(Y_test,pred_d3))\n",
    "print(\"Precision:\",metrics.precision_score(Y_test,pred_d3))\n",
    "print(\"Recall:\",metrics.recall_score(Y_test,pred_d3))"
   ]
  },
  {
   "cell_type": "markdown",
   "metadata": {},
   "source": [
    "#### Minimize the cost of the validation subsamples - degree 4"
   ]
  },
  {
   "cell_type": "code",
   "execution_count": 48,
   "metadata": {},
   "outputs": [],
   "source": [
    "X_test = test.drop('DEFAULT',axis=1)\n",
    "Y_test = test['DEFAULT']"
   ]
  },
  {
   "cell_type": "code",
   "execution_count": 49,
   "metadata": {},
   "outputs": [
    {
     "data": {
      "text/html": [
       "<div>\n",
       "<style scoped>\n",
       "    .dataframe tbody tr th:only-of-type {\n",
       "        vertical-align: middle;\n",
       "    }\n",
       "\n",
       "    .dataframe tbody tr th {\n",
       "        vertical-align: top;\n",
       "    }\n",
       "\n",
       "    .dataframe thead th {\n",
       "        text-align: right;\n",
       "    }\n",
       "</style>\n",
       "<table border=\"1\" class=\"dataframe\">\n",
       "  <thead>\n",
       "    <tr style=\"text-align: right;\">\n",
       "      <th></th>\n",
       "      <th>degree</th>\n",
       "      <th>cost</th>\n",
       "    </tr>\n",
       "  </thead>\n",
       "  <tbody>\n",
       "    <tr>\n",
       "      <th>3</th>\n",
       "      <td>4</td>\n",
       "      <td>-0.006313</td>\n",
       "    </tr>\n",
       "  </tbody>\n",
       "</table>\n",
       "</div>"
      ],
      "text/plain": [
       "   degree      cost\n",
       "3       4 -0.006313"
      ]
     },
     "execution_count": 49,
     "metadata": {},
     "output_type": "execute_result"
    }
   ],
   "source": [
    "cost_test = pd.DataFrame(CostFunctionLogistic(X_test, Y_test, 4), columns = ['cost'])\n",
    "cost_test['degree'] = cost_test.index + 1\n",
    "cost_test = cost_test.reindex(columns=['degree', 'cost'])\n",
    "cost_test = cost_test.iloc[-1:]\n",
    "cost_test"
   ]
  },
  {
   "cell_type": "code",
   "execution_count": 50,
   "metadata": {},
   "outputs": [
    {
     "data": {
      "text/plain": [
       "array([0, 0, 1, 0, 1, 0, 1, 1, 1, 1, 1, 0, 0, 1, 0, 1, 1, 0, 1, 1, 0, 1,\n",
       "       1, 0, 0, 0, 1, 1, 1, 1, 1])"
      ]
     },
     "execution_count": 50,
     "metadata": {},
     "output_type": "execute_result"
    }
   ],
   "source": [
    "logistic_d4 = LogisticRegression(solver='lbfgs', random_state=0).fit(X_train.iloc[:,0:2*4], Y_train)\n",
    "pred_d4 = logistic_d4.predict(X_test.iloc[:,0:2*4])\n",
    "pred_d4"
   ]
  },
  {
   "cell_type": "code",
   "execution_count": 51,
   "metadata": {},
   "outputs": [
    {
     "data": {
      "text/plain": [
       "array([[ 8,  3],\n",
       "       [ 4, 16]])"
      ]
     },
     "execution_count": 51,
     "metadata": {},
     "output_type": "execute_result"
    }
   ],
   "source": [
    "d4_matrix = metrics.confusion_matrix(Y_test,pred_d4)\n",
    "d4_matrix"
   ]
  },
  {
   "cell_type": "code",
   "execution_count": 52,
   "metadata": {},
   "outputs": [
    {
     "data": {
      "text/plain": [
       "Text(0.5, 257.44, 'Predicted label')"
      ]
     },
     "execution_count": 52,
     "metadata": {},
     "output_type": "execute_result"
    },
    {
     "data": {
      "image/png": "[encoded data removed]",
      "text/plain": [
       "<Figure size 432x288 with 2 Axes>"
      ]
     },
     "metadata": {
      "needs_background": "light"
     },
     "output_type": "display_data"
    }
   ],
   "source": [
    "class_names=[0,1] # name  of classes\n",
    "fig, ax = plt.subplots()\n",
    "tick_marks = np.arange(len(class_names))\n",
    "plt.xticks(tick_marks, class_names)\n",
    "plt.yticks(tick_marks, class_names)\n",
    "# create heatmap\n",
    "sns.heatmap(pd.DataFrame(d4_matrix), annot=True, cmap=\"YlGnBu\" ,fmt='g')\n",
    "ax.xaxis.set_label_position(\"top\")\n",
    "plt.tight_layout()\n",
    "plt.title('Confusion matrix', y=1.1)\n",
    "plt.ylabel('Actual label')\n",
    "plt.xlabel('Predicted label')"
   ]
  },
  {
   "cell_type": "code",
   "execution_count": 53,
   "metadata": {},
   "outputs": [
    {
     "name": "stdout",
     "output_type": "stream",
     "text": [
      "Accuracy: 0.7741935483870968\n",
      "Precision: 0.8421052631578947\n",
      "Recall: 0.8\n"
     ]
    }
   ],
   "source": [
    "print(\"Accuracy:\",metrics.accuracy_score(Y_test,pred_d4))\n",
    "print(\"Precision:\",metrics.precision_score(Y_test,pred_d4))\n",
    "print(\"Recall:\",metrics.recall_score(Y_test,pred_d4))"
   ]
  },
  {
   "cell_type": "markdown",
   "metadata": {},
   "source": [
    "Compared the above two models, the model with degree = 3 performs better on the test set as it has a higher accuracy, higher precision and higher recall ratios. "
   ]
  },
  {
   "cell_type": "markdown",
   "metadata": {},
   "source": [
    "###  <font color='blue'>3.7 Cross validation with 5 folds </font>"
   ]
  },
  {
   "cell_type": "code",
   "execution_count": 54,
   "metadata": {},
   "outputs": [],
   "source": [
    "from sklearn.linear_model import LogisticRegressionCV\n",
    "from sklearn.model_selection import GridSearchCV"
   ]
  },
  {
   "cell_type": "code",
   "execution_count": 55,
   "metadata": {},
   "outputs": [],
   "source": [
    "# Define X and Y \n",
    "X = df.drop('DEFAULT',axis=1).values\n",
    "Y = df['DEFAULT'].values"
   ]
  },
  {
   "cell_type": "code",
   "execution_count": 56,
   "metadata": {},
   "outputs": [
    {
     "name": "stdout",
     "output_type": "stream",
     "text": [
      "Best parameters are:  {'C': 1.0, 'penalty': 'l2'}\n",
      "Best score are:  0.8182795698924732\n"
     ]
    }
   ],
   "source": [
    "reg = LogisticRegression()\n",
    "parameters = {'penalty':['l2'] , 'C' : np.linspace(1,20,50)}\n",
    "tune_GSCV = GridSearchCV(reg, parameters, cv=5).fit(X, Y)\n",
    "print('Best parameters are: ', tune_GSCV.best_params_)\n",
    "print('Best score are: ', tune_GSCV.best_score_)"
   ]
  },
  {
   "cell_type": "code",
   "execution_count": 57,
   "metadata": {},
   "outputs": [],
   "source": [
    "reg = LogisticRegression(C = 1, penalty='l2').fit(X, Y)\n",
    "y_pre = reg.predict(X)"
   ]
  },
  {
   "cell_type": "code",
   "execution_count": 58,
   "metadata": {},
   "outputs": [
    {
     "data": {
      "text/plain": [
       "array([[51, 10],\n",
       "       [11, 82]])"
      ]
     },
     "execution_count": 58,
     "metadata": {},
     "output_type": "execute_result"
    }
   ],
   "source": [
    "cv_matrix = metrics.confusion_matrix(Y,y_pre)\n",
    "cv_matrix"
   ]
  },
  {
   "cell_type": "code",
   "execution_count": 59,
   "metadata": {},
   "outputs": [
    {
     "data": {
      "text/plain": [
       "Text(0.5, 257.44, 'Predicted label')"
      ]
     },
     "execution_count": 59,
     "metadata": {},
     "output_type": "execute_result"
    },
    {
     "data": {
      "image/png": "[encoded data removed]",
      "text/plain": [
       "<Figure size 432x288 with 2 Axes>"
      ]
     },
     "metadata": {
      "needs_background": "light"
     },
     "output_type": "display_data"
    }
   ],
   "source": [
    "class_names=[0,1] # name  of classes\n",
    "fig, ax = plt.subplots()\n",
    "tick_marks = np.arange(len(class_names))\n",
    "plt.xticks(tick_marks, class_names)\n",
    "plt.yticks(tick_marks, class_names)\n",
    "# create heatmap\n",
    "sns.heatmap(pd.DataFrame(cv_matrix), annot=True, cmap=\"YlGnBu\" ,fmt='g')\n",
    "ax.xaxis.set_label_position(\"top\")\n",
    "plt.tight_layout()\n",
    "plt.title('Confusion matrix', y=1.1)\n",
    "plt.ylabel('Actual label')\n",
    "plt.xlabel('Predicted label')"
   ]
  },
  {
   "cell_type": "code",
   "execution_count": 60,
   "metadata": {},
   "outputs": [
    {
     "name": "stdout",
     "output_type": "stream",
     "text": [
      "Accuracy: 0.8636363636363636\n",
      "Precision: 0.8913043478260869\n",
      "Recall: 0.8817204301075269\n"
     ]
    }
   ],
   "source": [
    "print(\"Accuracy:\",metrics.accuracy_score(Y,y_pre))\n",
    "print(\"Precision:\",metrics.precision_score(Y,y_pre))\n",
    "print(\"Recall:\",metrics.recall_score(Y,y_pre))"
   ]
  },
  {
   "cell_type": "code",
   "execution_count": null,
   "metadata": {},
   "outputs": [],
   "source": []
  }
 ],
 "metadata": {
  "kernelspec": {
   "display_name": "Python 3 (ipykernel)",
   "language": "python",
   "name": "python3"
  },
  "language_info": {
   "codemirror_mode": {
    "name": "ipython",
    "version": 3
   },
   "file_extension": ".py",
   "mimetype": "text/x-python",
   "name": "python",
   "nbconvert_exporter": "python",
   "pygments_lexer": "ipython3",
   "version": "3.9.13"
  }
 },
 "nbformat": 4,
 "nbformat_minor": 4
}

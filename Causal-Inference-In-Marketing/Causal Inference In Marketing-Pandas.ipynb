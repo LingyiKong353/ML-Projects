{
 "cells": [
  {
   "cell_type": "markdown",
   "id": "43b0a968-5ae1-4ac8-8d2f-bf8c392b53ac",
   "metadata": {},
   "source": [
    "# Causal Inference in Marketing"
   ]
  },
  {
   "cell_type": "code",
   "execution_count": 18,
   "id": "1398904b-1123-4af0-88a8-2442d791ec30",
   "metadata": {},
   "outputs": [],
   "source": [
    "import os\n",
    "import pandas as pd\n",
    "from pyspark.sql import SparkSession\n",
    "import pyspark.sql.functions as F\n",
    "from pyspark.sql.functions import col, mean\n",
    "os.environ['JAVA_HOME'] = \"/usr/lib/jvm/java-11-openjdk-amd64\"\n",
    "\n",
    "from causalml.inference.meta import BaseTClassifier\n",
    "from causalml.metrics.visualize import plot, auuc_score\n",
    "from sklearn.model_selection import train_test_split\n",
    "from xgboost import XGBClassifier\n",
    "import matplotlib.pyplot as plt"
   ]
  },
  {
   "cell_type": "markdown",
   "id": "a53672b9-bbdd-410f-b220-dad525d4d70b",
   "metadata": {},
   "source": [
    "## Read in and Prep Data"
   ]
  },
  {
   "cell_type": "code",
   "execution_count": 15,
   "id": "34175b61-92e8-4256-bb86-9ccfdfc22819",
   "metadata": {},
   "outputs": [
    {
     "name": "stderr",
     "output_type": "stream",
     "text": [
      "                                                                                \r"
     ]
    },
    {
     "name": "stdout",
     "output_type": "stream",
     "text": [
      "+------------------+------------------+-----------------+-----------------+------------------+-----------------+-------------------+-----------------+------------------+------------------+-----------------+--------------------+---------+----------+-----+--------+\n",
      "|                f0|                f1|               f2|               f3|                f4|               f5|                 f6|               f7|                f8|                f9|              f10|                 f11|treatment|conversion|visit|exposure|\n",
      "+------------------+------------------+-----------------+-----------------+------------------+-----------------+-------------------+-----------------+------------------+------------------+-----------------+--------------------+---------+----------+-----+--------+\n",
      "|12.616364906986497|10.059654474774547|8.976428838331028|4.679881620097284|10.280525225748212|4.115453421277861|0.29444271125560606|4.833814577796811|3.9553959684262416|13.190055934673358|5.300374864042156|-0.16867922100056124|        1|         0|    0|       0|\n",
      "|12.616364906986497|10.059654474774547|9.002689495197341|4.679881620097284|10.280525225748212|4.115453421277861|0.29444271125560606|4.833814577796811|3.9553959684262416|13.190055934673358|5.300374864042156|-0.16867922100056124|        1|         0|    0|       0|\n",
      "|12.616364906986497|10.059654474774547|8.964775175534072|4.679881620097284|10.280525225748212|4.115453421277861|0.29444271125560606|4.833814577796811|3.9553959684262416|13.190055934673358|5.300374864042156|-0.16867922100056124|        1|         0|    0|       0|\n",
      "+------------------+------------------+-----------------+-----------------+------------------+-----------------+-------------------+-----------------+------------------+------------------+-----------------+--------------------+---------+----------+-----+--------+\n",
      "only showing top 3 rows\n",
      "\n"
     ]
    }
   ],
   "source": [
    "# df = pd.read_csv(\"data/email_data.csv\")\n",
    "# df['treatment'] = df['segment'].map({'No E-Mail': 0, 'Womens E-Mail': 1, 'Mens E-Mail': 2})\n",
    "# df = df.query('treatment in [0,1]')\n",
    "# df = pd.read_csv(\"data/criteo-uplift-v2.1.csv\")\n",
    "spark = SparkSession.builder.appName(\"Load 3GB Causal Inference Data\").getOrCreate()\n",
    "df = spark.read.csv(\"data/criteo-uplift-v2.1.csv\", header=True, inferSchema=True)\n",
    "n = df.count()\n",
    "df.show(3)"
   ]
  },
  {
   "cell_type": "code",
   "execution_count": 21,
   "id": "94088b19-11b3-4545-bf0d-d856c3fe588d",
   "metadata": {},
   "outputs": [
    {
     "name": "stderr",
     "output_type": "stream",
     "text": [
      "                                                                                \r"
     ]
    },
    {
     "data": {
      "text/plain": [
       "['f0',\n",
       " 'f1',\n",
       " 'f2',\n",
       " 'f3',\n",
       " 'f4',\n",
       " 'f5',\n",
       " 'f6',\n",
       " 'f7',\n",
       " 'f8',\n",
       " 'f9',\n",
       " 'f10',\n",
       " 'f11',\n",
       " 'treatment',\n",
       " 'conversion',\n",
       " 'visit',\n",
       " 'exposure']"
      ]
     },
     "execution_count": 21,
     "metadata": {},
     "output_type": "execute_result"
    }
   ],
   "source": [
    "# df2 = df.limit(10000)\n",
    "df2.count()\n",
    "df2.columns"
   ]
  },
  {
   "cell_type": "code",
   "execution_count": 100,
   "id": "600880d9-242b-4639-9fbf-6d037a91ba39",
   "metadata": {},
   "outputs": [
    {
     "data": {
      "text/html": [
       "<div>\n",
       "<style scoped>\n",
       "    .dataframe tbody tr th:only-of-type {\n",
       "        vertical-align: middle;\n",
       "    }\n",
       "\n",
       "    .dataframe tbody tr th {\n",
       "        vertical-align: top;\n",
       "    }\n",
       "\n",
       "    .dataframe thead th {\n",
       "        text-align: right;\n",
       "    }\n",
       "</style>\n",
       "<table border=\"1\" class=\"dataframe\">\n",
       "  <thead>\n",
       "    <tr style=\"text-align: right;\">\n",
       "      <th></th>\n",
       "      <th>recency</th>\n",
       "      <th>history_segment</th>\n",
       "      <th>history</th>\n",
       "      <th>mens</th>\n",
       "      <th>womens</th>\n",
       "      <th>zip_code</th>\n",
       "      <th>newbie</th>\n",
       "      <th>channel</th>\n",
       "      <th>segment</th>\n",
       "      <th>visit</th>\n",
       "      <th>conversion</th>\n",
       "      <th>spend</th>\n",
       "      <th>treatment</th>\n",
       "      <th>zip_code_Rural</th>\n",
       "      <th>zip_code_Surburban</th>\n",
       "      <th>zip_code_Urban</th>\n",
       "      <th>channel_Multichannel</th>\n",
       "      <th>channel_Phone</th>\n",
       "      <th>channel_Web</th>\n",
       "    </tr>\n",
       "  </thead>\n",
       "  <tbody>\n",
       "    <tr>\n",
       "      <th>0</th>\n",
       "      <td>10</td>\n",
       "      <td>2) $100 - $200</td>\n",
       "      <td>142.44</td>\n",
       "      <td>1</td>\n",
       "      <td>0</td>\n",
       "      <td>Surburban</td>\n",
       "      <td>0</td>\n",
       "      <td>Phone</td>\n",
       "      <td>Womens E-Mail</td>\n",
       "      <td>0</td>\n",
       "      <td>0</td>\n",
       "      <td>0.0</td>\n",
       "      <td>1</td>\n",
       "      <td>0</td>\n",
       "      <td>1</td>\n",
       "      <td>0</td>\n",
       "      <td>0</td>\n",
       "      <td>1</td>\n",
       "      <td>0</td>\n",
       "    </tr>\n",
       "    <tr>\n",
       "      <th>1</th>\n",
       "      <td>6</td>\n",
       "      <td>3) $200 - $350</td>\n",
       "      <td>329.08</td>\n",
       "      <td>1</td>\n",
       "      <td>1</td>\n",
       "      <td>Rural</td>\n",
       "      <td>1</td>\n",
       "      <td>Web</td>\n",
       "      <td>No E-Mail</td>\n",
       "      <td>0</td>\n",
       "      <td>0</td>\n",
       "      <td>0.0</td>\n",
       "      <td>0</td>\n",
       "      <td>1</td>\n",
       "      <td>0</td>\n",
       "      <td>0</td>\n",
       "      <td>0</td>\n",
       "      <td>0</td>\n",
       "      <td>1</td>\n",
       "    </tr>\n",
       "    <tr>\n",
       "      <th>2</th>\n",
       "      <td>7</td>\n",
       "      <td>2) $100 - $200</td>\n",
       "      <td>180.65</td>\n",
       "      <td>0</td>\n",
       "      <td>1</td>\n",
       "      <td>Surburban</td>\n",
       "      <td>1</td>\n",
       "      <td>Web</td>\n",
       "      <td>Womens E-Mail</td>\n",
       "      <td>0</td>\n",
       "      <td>0</td>\n",
       "      <td>0.0</td>\n",
       "      <td>1</td>\n",
       "      <td>0</td>\n",
       "      <td>1</td>\n",
       "      <td>0</td>\n",
       "      <td>0</td>\n",
       "      <td>0</td>\n",
       "      <td>1</td>\n",
       "    </tr>\n",
       "  </tbody>\n",
       "</table>\n",
       "</div>"
      ],
      "text/plain": [
       "   recency history_segment  history  mens  womens   zip_code  newbie channel  \\\n",
       "0       10  2) $100 - $200   142.44     1       0  Surburban       0   Phone   \n",
       "1        6  3) $200 - $350   329.08     1       1      Rural       1     Web   \n",
       "2        7  2) $100 - $200   180.65     0       1  Surburban       1     Web   \n",
       "\n",
       "         segment  visit  conversion  spend  treatment  zip_code_Rural  \\\n",
       "0  Womens E-Mail      0           0    0.0          1               0   \n",
       "1      No E-Mail      0           0    0.0          0               1   \n",
       "2  Womens E-Mail      0           0    0.0          1               0   \n",
       "\n",
       "   zip_code_Surburban  zip_code_Urban  channel_Multichannel  channel_Phone  \\\n",
       "0                   1               0                     0              1   \n",
       "1                   0               0                     0              0   \n",
       "2                   1               0                     0              0   \n",
       "\n",
       "   channel_Web  \n",
       "0            0  \n",
       "1            1  \n",
       "2            1  "
      ]
     },
     "execution_count": 100,
     "metadata": {},
     "output_type": "execute_result"
    }
   ],
   "source": [
    "# convert categorical columns to binaries\n",
    "# zip_code_dummies = pd.get_dummies(df['zip_code'], prefix='zip_code')*1\n",
    "# channel_dummies = pd.get_dummies(df['channel'], prefix='channel')*1\n",
    "# df = pd.concat([df, zip_code_dummies, channel_dummies], axis=1)\n",
    "# df.head(3)"
   ]
  },
  {
   "cell_type": "code",
   "execution_count": 17,
   "id": "2e6114f5-5930-47a9-b06d-ad62d7f09ee6",
   "metadata": {},
   "outputs": [
    {
     "name": "stderr",
     "output_type": "stream",
     "text": [
      "[Stage 38:===================================================>    (23 + 2) / 25]\r"
     ]
    },
    {
     "name": "stdout",
     "output_type": "stream",
     "text": [
      "+------------------------------+--------------------------------+-----------------------------------+\n",
      "|Percentage of users that visit|Percentage of users that convert|Percentage of visitors that convert|\n",
      "+------------------------------+--------------------------------+-----------------------------------+\n",
      "|          0.046992000911042324|            0.002916680257907384|                0.06206759025709019|\n",
      "+------------------------------+--------------------------------+-----------------------------------+\n",
      "\n"
     ]
    },
    {
     "name": "stderr",
     "output_type": "stream",
     "text": [
      "                                                                                \r"
     ]
    }
   ],
   "source": [
    "df.select(\n",
    "    F.mean(\"visit\").alias(\"Percentage of users that visit\"),\n",
    "    F.mean(\"conversion\").alias(\"Percentage of users that convert\"),\n",
    "    (F.sum(\"conversion\") / F.sum(\"visit\")).alias(\"Percentage of visitors that convert\"),\n",
    ").show()"
   ]
  },
  {
   "cell_type": "code",
   "execution_count": 20,
   "id": "1db0dbe8-e908-490d-beb9-f01059324b26",
   "metadata": {},
   "outputs": [
    {
     "name": "stderr",
     "output_type": "stream",
     "text": [
      "[Stage 62:===================================================>    (23 + 2) / 25]\r"
     ]
    },
    {
     "name": "stdout",
     "output_type": "stream",
     "text": [
      "The control group had an 3.82% visit rate, of these visits there was a 5.07% conversion rate\n",
      "The treatment group had a 4.8500000000000005% visit rate, of these visits there was a 6.36% conversion rate\n"
     ]
    },
    {
     "name": "stderr",
     "output_type": "stream",
     "text": [
      "                                                                                \r"
     ]
    }
   ],
   "source": [
    "# Filter for control group and calculate visit and conversion rates\n",
    "control_df = df.filter(col(\"treatment\") == 0)\n",
    "control_visit_rate = control_df.agg(mean(\"visit\")).collect()[0][0]\n",
    "control_conversion_rate = control_df.filter(col(\"visit\") == 1).agg(mean(\"conversion\")).collect()[0][0]\n",
    "\n",
    "# Filter for treatment group and calculate visit and conversion rates\n",
    "treatment_df = df.filter(col(\"treatment\") == 1)\n",
    "treatment_visit_rate = treatment_df.agg(mean(\"visit\")).collect()[0][0]\n",
    "treatment_conversion_rate = treatment_df.filter(col(\"visit\") == 1).agg(mean(\"conversion\")).collect()[0][0]\n",
    "\n",
    "# Print the results\n",
    "print(f\"The control group had an {round(control_visit_rate, 4)*100}% visit rate, of these visits there was a {round(control_conversion_rate, 4)*100}% conversion rate\")\n",
    "print(f\"The treatment group had a {round(treatment_visit_rate, 4)*100}% visit rate, of these visits there was a {round(treatment_conversion_rate, 4)*100}% conversion rate\")"
   ]
  },
  {
   "cell_type": "code",
   "execution_count": 101,
   "id": "0537b2b5-c9ef-434e-b36a-73eb51e30985",
   "metadata": {},
   "outputs": [
    {
     "name": "stdout",
     "output_type": "stream",
     "text": [
      "The control group had an 11.0% visit rate, of these visits there was a 5.0% conversion rate\n",
      "The treatment group had a 15.0% visit rate, of these visits there was a 6.0% conversion rate\n"
     ]
    }
   ],
   "source": [
    "#control_visit_rate = df.query(\"treatment == 0\")['visit'].mean()\n",
    "#control_conversion_rate = df.query(\"treatment == 0 and visit == 1\")['conversion'].mean()\n",
    "#print(f\"The control group had an {round(control_visit_rate, 2)*100}% visit rate, of these visits there was a {round(control_conversion_rate, 2)*100}% conversion rate\")\n",
    "\n",
    "#treatment_visit_rate = df.query(\"treatment == 1\")['visit'].mean()\n",
    "#treatment_conversion_rate = df.query(\"treatment == 1 and visit == 1\")['conversion'].mean()\n",
    "#print(f\"The treatment group had a {round(treatment_visit_rate, 2)*100}% visit rate, of these visits there was a {round(treatment_conversion_rate, 2)*100}% conversion rate\")"
   ]
  },
  {
   "cell_type": "code",
   "execution_count": null,
   "id": "6f3378ca-cabd-444a-af5f-8f6575fbe1c2",
   "metadata": {},
   "outputs": [],
   "source": []
  },
  {
   "cell_type": "code",
   "execution_count": 217,
   "id": "d0a437be-326e-48e9-bd69-ead3c61f8b2f",
   "metadata": {},
   "outputs": [],
   "source": [
    "# Features, treatment, and outcome\n",
    "X = df[['recency', 'history', 'womens', 'zip_code_Rural', 'zip_code_Urban', 'channel_Web']]\n",
    "T = df['treatment']\n",
    "y = df['visit']"
   ]
  },
  {
   "cell_type": "code",
   "execution_count": 218,
   "id": "c3e79daf-2b63-43de-a775-ede3b4cd1b41",
   "metadata": {},
   "outputs": [],
   "source": [
    "# Split the data into train and test\n",
    "X_train, X_test, T_train, T_test, y_train, y_test = train_test_split(X, T, y, test_size=0.2, random_state=42)"
   ]
  },
  {
   "cell_type": "code",
   "execution_count": 219,
   "id": "d9dbd4a9-64f2-430a-99ad-08a80d32bcbd",
   "metadata": {},
   "outputs": [],
   "source": [
    "# Let's use the t-learner as the causal inference model with XGBoost as the underlying estimator\n",
    "t_learner = BaseTClassifier(learner=XGBClassifier(max_depth=3, learning_rate = 0.2, reg_lambda = 0.2, random_state=42))"
   ]
  },
  {
   "cell_type": "code",
   "execution_count": 220,
   "id": "64d96086-b5de-4d8c-8622-307c6712a84f",
   "metadata": {},
   "outputs": [],
   "source": [
    "# Fit the model\n",
    "t_learner.fit(X_train, T_train, y_train)"
   ]
  },
  {
   "cell_type": "code",
   "execution_count": 221,
   "id": "2db4977e-6a71-4ce1-80ff-675a38195056",
   "metadata": {},
   "outputs": [],
   "source": [
    "ite_test = t_learner.predict(X_test)\n",
    "ite_test = [value[0] for value in ite_test]"
   ]
  },
  {
   "cell_type": "code",
   "execution_count": 284,
   "id": "e6ece161-4c4f-4c9b-aff9-5e3e76f0d3dc",
   "metadata": {},
   "outputs": [
    {
     "data": {
      "text/html": [
       "<div>\n",
       "<style scoped>\n",
       "    .dataframe tbody tr th:only-of-type {\n",
       "        vertical-align: middle;\n",
       "    }\n",
       "\n",
       "    .dataframe tbody tr th {\n",
       "        vertical-align: top;\n",
       "    }\n",
       "\n",
       "    .dataframe thead th {\n",
       "        text-align: right;\n",
       "    }\n",
       "</style>\n",
       "<table border=\"1\" class=\"dataframe\">\n",
       "  <thead>\n",
       "    <tr style=\"text-align: right;\">\n",
       "      <th></th>\n",
       "      <th>treatment</th>\n",
       "      <th>ite</th>\n",
       "      <th>outcome</th>\n",
       "    </tr>\n",
       "  </thead>\n",
       "  <tbody>\n",
       "    <tr>\n",
       "      <th>7730</th>\n",
       "      <td>0</td>\n",
       "      <td>-0.002084</td>\n",
       "      <td>0</td>\n",
       "    </tr>\n",
       "    <tr>\n",
       "      <th>17594</th>\n",
       "      <td>1</td>\n",
       "      <td>0.030584</td>\n",
       "      <td>0</td>\n",
       "    </tr>\n",
       "    <tr>\n",
       "      <th>14481</th>\n",
       "      <td>1</td>\n",
       "      <td>0.091401</td>\n",
       "      <td>0</td>\n",
       "    </tr>\n",
       "    <tr>\n",
       "      <th>20003</th>\n",
       "      <td>1</td>\n",
       "      <td>0.074211</td>\n",
       "      <td>0</td>\n",
       "    </tr>\n",
       "    <tr>\n",
       "      <th>19981</th>\n",
       "      <td>0</td>\n",
       "      <td>0.065424</td>\n",
       "      <td>0</td>\n",
       "    </tr>\n",
       "  </tbody>\n",
       "</table>\n",
       "</div>"
      ],
      "text/plain": [
       "       treatment       ite  outcome\n",
       "7730           0 -0.002084        0\n",
       "17594          1  0.030584        0\n",
       "14481          1  0.091401        0\n",
       "20003          1  0.074211        0\n",
       "19981          0  0.065424        0"
      ]
     },
     "execution_count": 284,
     "metadata": {},
     "output_type": "execute_result"
    }
   ],
   "source": [
    "df_test = pd.DataFrame({\"treatment\": T_test, \"ite\": ite_test, \"outcome\": y_test})\n",
    "df_test.head()"
   ]
  },
  {
   "cell_type": "markdown",
   "id": "534d9c85-874f-4d05-a665-844e401d6b01",
   "metadata": {},
   "source": [
    "## Uplift curve\n",
    "Let's make the uplift curve, note while this looks similar to the AUC curve, it is different. The x-axis in this case represents the population selected for treatment. So at the origin when x = 0, this is when we do not give treatment to anybody; in contrast when x = 1, this is when we give treatment to everybody. The y-axis measures the uplift between the difference of predicted treatment and control outcomes. A standard thing to do, is to also sort the individuals so that the highest uplift individuals have their uplift recorded first (by sorting them from highest uplift to lowest) which will give the curve the concave shape when it out performs the baseline random treatment assignment model"
   ]
  },
  {
   "cell_type": "code",
   "execution_count": 286,
   "id": "447b9c5d-1ebf-4c8b-9ec6-a4c0636f5771",
   "metadata": {},
   "outputs": [
    {
     "data": {
      "text/html": [
       "<div>\n",
       "<style scoped>\n",
       "    .dataframe tbody tr th:only-of-type {\n",
       "        vertical-align: middle;\n",
       "    }\n",
       "\n",
       "    .dataframe tbody tr th {\n",
       "        vertical-align: top;\n",
       "    }\n",
       "\n",
       "    .dataframe thead th {\n",
       "        text-align: right;\n",
       "    }\n",
       "</style>\n",
       "<table border=\"1\" class=\"dataframe\">\n",
       "  <thead>\n",
       "    <tr style=\"text-align: right;\">\n",
       "      <th></th>\n",
       "      <th>treatment</th>\n",
       "      <th>ite</th>\n",
       "      <th>outcome</th>\n",
       "    </tr>\n",
       "  </thead>\n",
       "  <tbody>\n",
       "    <tr>\n",
       "      <th>24504</th>\n",
       "      <td>1</td>\n",
       "      <td>0.386675</td>\n",
       "      <td>0</td>\n",
       "    </tr>\n",
       "    <tr>\n",
       "      <th>26971</th>\n",
       "      <td>0</td>\n",
       "      <td>0.380419</td>\n",
       "      <td>0</td>\n",
       "    </tr>\n",
       "    <tr>\n",
       "      <th>40129</th>\n",
       "      <td>1</td>\n",
       "      <td>0.371092</td>\n",
       "      <td>0</td>\n",
       "    </tr>\n",
       "    <tr>\n",
       "      <th>30400</th>\n",
       "      <td>1</td>\n",
       "      <td>0.369487</td>\n",
       "      <td>0</td>\n",
       "    </tr>\n",
       "    <tr>\n",
       "      <th>46913</th>\n",
       "      <td>0</td>\n",
       "      <td>0.343383</td>\n",
       "      <td>0</td>\n",
       "    </tr>\n",
       "    <tr>\n",
       "      <th>14957</th>\n",
       "      <td>0</td>\n",
       "      <td>0.339190</td>\n",
       "      <td>1</td>\n",
       "    </tr>\n",
       "  </tbody>\n",
       "</table>\n",
       "</div>"
      ],
      "text/plain": [
       "       treatment       ite  outcome\n",
       "24504          1  0.386675        0\n",
       "26971          0  0.380419        0\n",
       "40129          1  0.371092        0\n",
       "30400          1  0.369487        0\n",
       "46913          0  0.343383        0\n",
       "14957          0  0.339190        1"
      ]
     },
     "execution_count": 286,
     "metadata": {},
     "output_type": "execute_result"
    }
   ],
   "source": [
    "# Sort the test data by uplift score in descending order\n",
    "df_test_sorted = df_test.sort_values(by='ite', ascending=False)\n",
    "df_test_sorted.head(6)"
   ]
  },
  {
   "cell_type": "code",
   "execution_count": 224,
   "id": "5c4d792f-0900-49ed-8ec3-847b28cd999c",
   "metadata": {},
   "outputs": [
    {
     "data": {
      "image/png": "[encoded data removed]",
      "text/plain": [
       "<Figure size 800x600 with 1 Axes>"
      ]
     },
     "metadata": {},
     "output_type": "display_data"
    }
   ],
   "source": [
    "# Calculate the cumulative uplift curve\n",
    "num_bins = 20  # Number of quantiles to divide the data into\n",
    "df_test_sorted['bin'] = pd.qcut(df_test_sorted.index, q=num_bins, labels=False)\n",
    "\n",
    "# Initialize cumulative metrics for uplift curve calculation\n",
    "cumulative_treatment_effect = [0]\n",
    "cumulative_population = [0]\n",
    "cumulative_uplift = 0\n",
    "\n",
    "for bin_num in range(num_bins):\n",
    "    # Subset data for the current bin\n",
    "    bin_data = df_test_sorted[df_test_sorted['bin'] == bin_num]\n",
    "    \n",
    "    treatment_outcome = bin_data.query('treatment == 1')['outcome'].mean()\n",
    "    control_outcome = bin_data.query('treatment == 0')['outcome'].mean()\n",
    "    \n",
    "    # Calculate bin uplift and cumulative uplift\n",
    "    bin_uplift = (treatment_outcome - control_outcome) * len(bin_data)\n",
    "    cumulative_uplift += bin_uplift\n",
    "    \n",
    "    # Store cumulative values for plotting\n",
    "    cumulative_treatment_effect.append(cumulative_uplift)\n",
    "    cumulative_population.append((bin_num + 1) / num_bins)\n",
    "\n",
    "# Plot the uplift curve\n",
    "plt.figure(figsize=(8, 6))\n",
    "plt.plot(\n",
    "    cumulative_population, \n",
    "    cumulative_treatment_effect, \n",
    "    marker='o', \n",
    "    color='b', \n",
    "    label='Uplift Curve'\n",
    ")\n",
    "plt.plot(\n",
    "    [0, max(cumulative_population)],\n",
    "    [0, max(cumulative_treatment_effect)],\n",
    "    \"--\",\n",
    "    color=\"tab:orange\",\n",
    "    label=\"Random Treatment\",\n",
    ")\n",
    "plt.xlabel('Proportion of Population Targeted')\n",
    "plt.ylabel('Cumulative Uplift')\n",
    "plt.title('Uplift Curve')\n",
    "plt.legend(loc='upper left')\n",
    "plt.grid(True)\n",
    "plt.show()"
   ]
  },
  {
   "cell_type": "code",
   "execution_count": 225,
   "id": "2d845183-0fa0-4459-9d1b-c4fc9b1dcb8e",
   "metadata": {},
   "outputs": [
    {
     "data": {
      "text/plain": [
       "ite       0.623534\n",
       "bin       0.465670\n",
       "Random    0.490255\n",
       "dtype: float64"
      ]
     },
     "execution_count": 225,
     "metadata": {},
     "output_type": "execute_result"
    }
   ],
   "source": [
    "\n",
    "auuc_score(df_test_sorted, outcome_col='outcome', treatment_col='treatment')\n",
    "# auuc_score(df, tmle=True, inference_col=inference_cols, outcome_col='y', treatment_col='w', p_col='p',\n",
    "#            n_segment=5, cv=kf, calibrate_propensity=True, ci=False)"
   ]
  },
  {
   "cell_type": "code",
   "execution_count": 226,
   "id": "25b17a26-b6ac-4012-91b3-ebd56f19e2fe",
   "metadata": {},
   "outputs": [],
   "source": [
    "# run for loop to find hyperparameters\n",
    "max_depth_values = [3, 4, 5, 6, 10]\n",
    "learning_rate_values = [0.1, 0.5, 1]\n",
    "reg_lambda_values = [0, 1, 2]"
   ]
  },
  {
   "cell_type": "code",
   "execution_count": 229,
   "id": "fe00072f-da59-4e0f-a671-e7576f963948",
   "metadata": {},
   "outputs": [
    {
     "data": {
      "text/html": [
       "<div>\n",
       "<style scoped>\n",
       "    .dataframe tbody tr th:only-of-type {\n",
       "        vertical-align: middle;\n",
       "    }\n",
       "\n",
       "    .dataframe tbody tr th {\n",
       "        vertical-align: top;\n",
       "    }\n",
       "\n",
       "    .dataframe thead th {\n",
       "        text-align: right;\n",
       "    }\n",
       "</style>\n",
       "<table border=\"1\" class=\"dataframe\">\n",
       "  <thead>\n",
       "    <tr style=\"text-align: right;\">\n",
       "      <th></th>\n",
       "      <th>max_depth</th>\n",
       "      <th>learning_rate</th>\n",
       "      <th>reg_lambda</th>\n",
       "      <th>auuc</th>\n",
       "    </tr>\n",
       "  </thead>\n",
       "  <tbody>\n",
       "    <tr>\n",
       "      <th>0</th>\n",
       "      <td>3.0</td>\n",
       "      <td>0.1</td>\n",
       "      <td>0.0</td>\n",
       "      <td>0.636175</td>\n",
       "    </tr>\n",
       "    <tr>\n",
       "      <th>0</th>\n",
       "      <td>3.0</td>\n",
       "      <td>0.1</td>\n",
       "      <td>1.0</td>\n",
       "      <td>0.634141</td>\n",
       "    </tr>\n",
       "    <tr>\n",
       "      <th>0</th>\n",
       "      <td>3.0</td>\n",
       "      <td>0.1</td>\n",
       "      <td>2.0</td>\n",
       "      <td>0.638739</td>\n",
       "    </tr>\n",
       "  </tbody>\n",
       "</table>\n",
       "</div>"
      ],
      "text/plain": [
       "   max_depth  learning_rate  reg_lambda      auuc\n",
       "0        3.0            0.1         0.0  0.636175\n",
       "0        3.0            0.1         1.0  0.634141\n",
       "0        3.0            0.1         2.0  0.638739"
      ]
     },
     "metadata": {},
     "output_type": "display_data"
    }
   ],
   "source": [
    "results = pd.DataFrame({'max_depth': [], 'learning_rate': [], 'reg_lambda': [], 'auuc': []})\n",
    "for max_depth in max_depth_values:\n",
    "    for learning_rate in learning_rate_values:\n",
    "        for reg_lambda in reg_lambda_values:\n",
    "            t_learner = BaseTClassifier(learner=XGBClassifier(max_depth=max_depth, learning_rate = learning_rate, reg_lambda = reg_lambda, random_state=42))\n",
    "            t_learner.fit(X_train, T_train, y_train)\n",
    "            ite_test = t_learner.predict(X_test)\n",
    "            ite_test = [value[0] for value in ite_test]\n",
    "            df_test = pd.DataFrame({\"treatment\": T_test, \"ite\": ite_test, \"outcome\": y_test})\n",
    "            df_test_sorted = df_test.sort_values(by='ite', ascending=False)\n",
    "            this_score = auuc_score(df_test_sorted, outcome_col='outcome', treatment_col='treatment')\n",
    "            this_result = pd.DataFrame({\n",
    "                'max_depth': [max_depth], \n",
    "                'learning_rate': [learning_rate], \n",
    "                'reg_lambda': [reg_lambda],\n",
    "                'auuc': [this_score['ite']]\n",
    "            })\n",
    "            results = pd.concat([results, this_result], axis=0)\n",
    "\n",
    "results.sort_values(by='auuc', ascending=False)\n",
    "display(results.head(3))"
   ]
  },
  {
   "cell_type": "markdown",
   "id": "ab33cc0b-ec86-487f-b01e-7eb1ad5a83e5",
   "metadata": {},
   "source": [
    "## Run again with best parameter setting"
   ]
  },
  {
   "cell_type": "code",
   "execution_count": 230,
   "id": "238401a6-f34a-491a-9452-b3b22cf1caa3",
   "metadata": {},
   "outputs": [
    {
     "data": {
      "image/png": "[encoded data removed]",
      "text/plain": [
       "<Figure size 800x600 with 1 Axes>"
      ]
     },
     "metadata": {},
     "output_type": "display_data"
    }
   ],
   "source": [
    "max_depth = 3\n",
    "learning_rate = 0.1\n",
    "reg_lambda = 0\n",
    "\n",
    "t_learner = BaseTClassifier(learner=XGBClassifier(max_depth=max_depth, learning_rate = learning_rate, reg_lambda = reg_lambda, random_state=42))\n",
    "t_learner.fit(X_train, T_train, y_train)\n",
    "ite_test = t_learner.predict(X_test)\n",
    "ite_test = [value[0] for value in ite_test]\n",
    "df_test = pd.DataFrame({\"treatment\": T_test, \"ite\": ite_test, \"outcome\": y_test})\n",
    "df_test_sorted = df_test.sort_values(by='ite', ascending=False)\n",
    "\n",
    "# Calculate the cumulative uplift curve\n",
    "num_bins = 20  # Number of quantiles to divide the data into\n",
    "df_test_sorted['bin'] = pd.qcut(df_test_sorted.index, q=num_bins, labels=False)\n",
    "\n",
    "# Initialize cumulative metrics for uplift curve calculation\n",
    "cumulative_treatment_effect = [0]\n",
    "cumulative_population = [0]\n",
    "cumulative_uplift = 0\n",
    "\n",
    "for bin_num in range(num_bins):\n",
    "    # Subset data for the current bin\n",
    "    bin_data = df_test_sorted[df_test_sorted['bin'] == bin_num]\n",
    "    \n",
    "    treatment_outcome = bin_data.query('treatment == 1')['outcome'].mean()\n",
    "    control_outcome = bin_data.query('treatment == 0')['outcome'].mean()\n",
    "    \n",
    "    # Calculate bin uplift and cumulative uplift\n",
    "    bin_uplift = (treatment_outcome - control_outcome) * len(bin_data)\n",
    "    cumulative_uplift += bin_uplift\n",
    "    \n",
    "    # Store cumulative values for plotting\n",
    "    cumulative_treatment_effect.append(cumulative_uplift)\n",
    "    cumulative_population.append((bin_num + 1) / num_bins)\n",
    "\n",
    "# Plot the uplift curve\n",
    "plt.figure(figsize=(8, 6))\n",
    "plt.plot(\n",
    "    cumulative_population, \n",
    "    cumulative_treatment_effect, \n",
    "    marker='o', \n",
    "    color='b', \n",
    "    label='Uplift Curve'\n",
    ")\n",
    "plt.plot(\n",
    "    [0, max(cumulative_population)],\n",
    "    [0, max(cumulative_treatment_effect)],\n",
    "    \"--\",\n",
    "    color=\"tab:orange\",\n",
    "    label=\"Random Treatment\",\n",
    ")\n",
    "plt.xlabel('Proportion of Population Targeted')\n",
    "plt.ylabel('Cumulative Uplift')\n",
    "plt.title('Uplift Curve')\n",
    "plt.legend(loc='upper left')\n",
    "plt.grid(True)\n",
    "plt.show()"
   ]
  },
  {
   "cell_type": "code",
   "execution_count": 294,
   "id": "ecfe94c1-d9ac-4bb4-a76d-6080b5697475",
   "metadata": {},
   "outputs": [],
   "source": [
    "# following Microsoft's way\n",
    "treated = df_test_sorted.query('treatment == 1')\n",
    "control = df_test_sorted.query('treatment == 0')\n",
    "df_test_sorted['treatment_cumsum'] = treated['outcome'].cumsum() / len(treated)\n",
    "df_test_sorted['control_cumsum'] = control['outcome'].cumsum() / len(control)\n",
    "df_test_sorted = df_test_sorted.ffill().fillna(0) # fill in NA values for treatment and control for observations of the opposite sign"
   ]
  },
  {
   "cell_type": "code",
   "execution_count": 295,
   "id": "1d6da674-b51c-4237-b87c-5974d224cd6d",
   "metadata": {},
   "outputs": [
    {
     "data": {
      "text/html": [
       "<div>\n",
       "<style scoped>\n",
       "    .dataframe tbody tr th:only-of-type {\n",
       "        vertical-align: middle;\n",
       "    }\n",
       "\n",
       "    .dataframe tbody tr th {\n",
       "        vertical-align: top;\n",
       "    }\n",
       "\n",
       "    .dataframe thead th {\n",
       "        text-align: right;\n",
       "    }\n",
       "</style>\n",
       "<table border=\"1\" class=\"dataframe\">\n",
       "  <thead>\n",
       "    <tr style=\"text-align: right;\">\n",
       "      <th></th>\n",
       "      <th>treatment</th>\n",
       "      <th>ite</th>\n",
       "      <th>outcome</th>\n",
       "      <th>treatment_cumsum</th>\n",
       "      <th>control_cumsum</th>\n",
       "      <th>percent_rank</th>\n",
       "      <th>uplift</th>\n",
       "    </tr>\n",
       "  </thead>\n",
       "  <tbody>\n",
       "    <tr>\n",
       "      <th>12408</th>\n",
       "      <td>1</td>\n",
       "      <td>-0.093968</td>\n",
       "      <td>1</td>\n",
       "      <td>0.152894</td>\n",
       "      <td>0.104818</td>\n",
       "      <td>0.997775</td>\n",
       "      <td>0.048077</td>\n",
       "    </tr>\n",
       "    <tr>\n",
       "      <th>25902</th>\n",
       "      <td>1</td>\n",
       "      <td>-0.094278</td>\n",
       "      <td>0</td>\n",
       "      <td>0.152894</td>\n",
       "      <td>0.104818</td>\n",
       "      <td>0.997951</td>\n",
       "      <td>0.048077</td>\n",
       "    </tr>\n",
       "    <tr>\n",
       "      <th>8296</th>\n",
       "      <td>1</td>\n",
       "      <td>-0.094278</td>\n",
       "      <td>1</td>\n",
       "      <td>0.153128</td>\n",
       "      <td>0.104818</td>\n",
       "      <td>0.997951</td>\n",
       "      <td>0.048310</td>\n",
       "    </tr>\n",
       "    <tr>\n",
       "      <th>12979</th>\n",
       "      <td>1</td>\n",
       "      <td>-0.094384</td>\n",
       "      <td>0</td>\n",
       "      <td>0.153128</td>\n",
       "      <td>0.104818</td>\n",
       "      <td>0.998126</td>\n",
       "      <td>0.048310</td>\n",
       "    </tr>\n",
       "    <tr>\n",
       "      <th>63442</th>\n",
       "      <td>1</td>\n",
       "      <td>-0.098651</td>\n",
       "      <td>0</td>\n",
       "      <td>0.153128</td>\n",
       "      <td>0.104818</td>\n",
       "      <td>0.998243</td>\n",
       "      <td>0.048310</td>\n",
       "    </tr>\n",
       "    <tr>\n",
       "      <th>13802</th>\n",
       "      <td>0</td>\n",
       "      <td>-0.101813</td>\n",
       "      <td>0</td>\n",
       "      <td>0.153128</td>\n",
       "      <td>0.104818</td>\n",
       "      <td>0.998360</td>\n",
       "      <td>0.048310</td>\n",
       "    </tr>\n",
       "    <tr>\n",
       "      <th>4751</th>\n",
       "      <td>1</td>\n",
       "      <td>-0.107938</td>\n",
       "      <td>0</td>\n",
       "      <td>0.153128</td>\n",
       "      <td>0.104818</td>\n",
       "      <td>0.998478</td>\n",
       "      <td>0.048310</td>\n",
       "    </tr>\n",
       "    <tr>\n",
       "      <th>54928</th>\n",
       "      <td>1</td>\n",
       "      <td>-0.108624</td>\n",
       "      <td>1</td>\n",
       "      <td>0.153361</td>\n",
       "      <td>0.104818</td>\n",
       "      <td>0.998595</td>\n",
       "      <td>0.048543</td>\n",
       "    </tr>\n",
       "    <tr>\n",
       "      <th>57604</th>\n",
       "      <td>1</td>\n",
       "      <td>-0.110840</td>\n",
       "      <td>0</td>\n",
       "      <td>0.153361</td>\n",
       "      <td>0.104818</td>\n",
       "      <td>0.998712</td>\n",
       "      <td>0.048543</td>\n",
       "    </tr>\n",
       "    <tr>\n",
       "      <th>38612</th>\n",
       "      <td>0</td>\n",
       "      <td>-0.118890</td>\n",
       "      <td>0</td>\n",
       "      <td>0.153361</td>\n",
       "      <td>0.104818</td>\n",
       "      <td>0.998829</td>\n",
       "      <td>0.048543</td>\n",
       "    </tr>\n",
       "    <tr>\n",
       "      <th>35072</th>\n",
       "      <td>0</td>\n",
       "      <td>-0.119659</td>\n",
       "      <td>0</td>\n",
       "      <td>0.153361</td>\n",
       "      <td>0.104818</td>\n",
       "      <td>0.998946</td>\n",
       "      <td>0.048543</td>\n",
       "    </tr>\n",
       "    <tr>\n",
       "      <th>11463</th>\n",
       "      <td>0</td>\n",
       "      <td>-0.121091</td>\n",
       "      <td>0</td>\n",
       "      <td>0.153361</td>\n",
       "      <td>0.104818</td>\n",
       "      <td>0.999063</td>\n",
       "      <td>0.048543</td>\n",
       "    </tr>\n",
       "    <tr>\n",
       "      <th>63531</th>\n",
       "      <td>1</td>\n",
       "      <td>-0.128316</td>\n",
       "      <td>0</td>\n",
       "      <td>0.153361</td>\n",
       "      <td>0.104818</td>\n",
       "      <td>0.999180</td>\n",
       "      <td>0.048543</td>\n",
       "    </tr>\n",
       "    <tr>\n",
       "      <th>11234</th>\n",
       "      <td>0</td>\n",
       "      <td>-0.129253</td>\n",
       "      <td>0</td>\n",
       "      <td>0.153361</td>\n",
       "      <td>0.104818</td>\n",
       "      <td>0.999356</td>\n",
       "      <td>0.048543</td>\n",
       "    </tr>\n",
       "    <tr>\n",
       "      <th>43322</th>\n",
       "      <td>1</td>\n",
       "      <td>-0.129253</td>\n",
       "      <td>1</td>\n",
       "      <td>0.153595</td>\n",
       "      <td>0.104818</td>\n",
       "      <td>0.999356</td>\n",
       "      <td>0.048777</td>\n",
       "    </tr>\n",
       "    <tr>\n",
       "      <th>27137</th>\n",
       "      <td>1</td>\n",
       "      <td>-0.133640</td>\n",
       "      <td>0</td>\n",
       "      <td>0.153595</td>\n",
       "      <td>0.104818</td>\n",
       "      <td>0.999532</td>\n",
       "      <td>0.048777</td>\n",
       "    </tr>\n",
       "    <tr>\n",
       "      <th>4842</th>\n",
       "      <td>1</td>\n",
       "      <td>-0.137399</td>\n",
       "      <td>0</td>\n",
       "      <td>0.153595</td>\n",
       "      <td>0.104818</td>\n",
       "      <td>0.999649</td>\n",
       "      <td>0.048777</td>\n",
       "    </tr>\n",
       "    <tr>\n",
       "      <th>28116</th>\n",
       "      <td>0</td>\n",
       "      <td>-0.143050</td>\n",
       "      <td>0</td>\n",
       "      <td>0.153595</td>\n",
       "      <td>0.104818</td>\n",
       "      <td>0.999766</td>\n",
       "      <td>0.048777</td>\n",
       "    </tr>\n",
       "    <tr>\n",
       "      <th>1925</th>\n",
       "      <td>0</td>\n",
       "      <td>-0.155570</td>\n",
       "      <td>0</td>\n",
       "      <td>0.153595</td>\n",
       "      <td>0.104818</td>\n",
       "      <td>0.999883</td>\n",
       "      <td>0.048777</td>\n",
       "    </tr>\n",
       "    <tr>\n",
       "      <th>23136</th>\n",
       "      <td>1</td>\n",
       "      <td>-0.207386</td>\n",
       "      <td>0</td>\n",
       "      <td>0.153595</td>\n",
       "      <td>0.104818</td>\n",
       "      <td>1.000000</td>\n",
       "      <td>0.048777</td>\n",
       "    </tr>\n",
       "  </tbody>\n",
       "</table>\n",
       "</div>"
      ],
      "text/plain": [
       "       treatment       ite  outcome  treatment_cumsum  control_cumsum  \\\n",
       "12408          1 -0.093968        1          0.152894        0.104818   \n",
       "25902          1 -0.094278        0          0.152894        0.104818   \n",
       "8296           1 -0.094278        1          0.153128        0.104818   \n",
       "12979          1 -0.094384        0          0.153128        0.104818   \n",
       "63442          1 -0.098651        0          0.153128        0.104818   \n",
       "13802          0 -0.101813        0          0.153128        0.104818   \n",
       "4751           1 -0.107938        0          0.153128        0.104818   \n",
       "54928          1 -0.108624        1          0.153361        0.104818   \n",
       "57604          1 -0.110840        0          0.153361        0.104818   \n",
       "38612          0 -0.118890        0          0.153361        0.104818   \n",
       "35072          0 -0.119659        0          0.153361        0.104818   \n",
       "11463          0 -0.121091        0          0.153361        0.104818   \n",
       "63531          1 -0.128316        0          0.153361        0.104818   \n",
       "11234          0 -0.129253        0          0.153361        0.104818   \n",
       "43322          1 -0.129253        1          0.153595        0.104818   \n",
       "27137          1 -0.133640        0          0.153595        0.104818   \n",
       "4842           1 -0.137399        0          0.153595        0.104818   \n",
       "28116          0 -0.143050        0          0.153595        0.104818   \n",
       "1925           0 -0.155570        0          0.153595        0.104818   \n",
       "23136          1 -0.207386        0          0.153595        0.104818   \n",
       "\n",
       "       percent_rank    uplift  \n",
       "12408      0.997775  0.048077  \n",
       "25902      0.997951  0.048077  \n",
       "8296       0.997951  0.048310  \n",
       "12979      0.998126  0.048310  \n",
       "63442      0.998243  0.048310  \n",
       "13802      0.998360  0.048310  \n",
       "4751       0.998478  0.048310  \n",
       "54928      0.998595  0.048543  \n",
       "57604      0.998712  0.048543  \n",
       "38612      0.998829  0.048543  \n",
       "35072      0.998946  0.048543  \n",
       "11463      0.999063  0.048543  \n",
       "63531      0.999180  0.048543  \n",
       "11234      0.999356  0.048543  \n",
       "43322      0.999356  0.048777  \n",
       "27137      0.999532  0.048777  \n",
       "4842       0.999649  0.048777  \n",
       "28116      0.999766  0.048777  \n",
       "1925       0.999883  0.048777  \n",
       "23136      1.000000  0.048777  "
      ]
     },
     "execution_count": 295,
     "metadata": {},
     "output_type": "execute_result"
    }
   ],
   "source": [
    "df_test_sorted['percent_rank'] = df_test_sorted['ite'].rank(pct=True, ascending=False)\n",
    "df_test_sorted['uplift'] = df_test_sorted['treatment_cumsum'] - df_test_sorted['control_cumsum']\n",
    "df_test_sorted.tail(20)"
   ]
  },
  {
   "cell_type": "code",
   "execution_count": 296,
   "id": "3dc6fdb0-abea-4723-a64f-68fdfe85dbb0",
   "metadata": {},
   "outputs": [],
   "source": [
    "x_axis = [val for val in df_test_sorted['percent_rank'].values]\n",
    "y_axis = [val for val in df_test_sorted['uplift'].values]"
   ]
  },
  {
   "cell_type": "code",
   "execution_count": 297,
   "id": "3321f674-547c-4384-9082-e770b821a952",
   "metadata": {},
   "outputs": [
    {
     "data": {
      "image/png": "[encoded data removed]",
      "text/plain": [
       "<Figure size 800x600 with 1 Axes>"
      ]
     },
     "metadata": {},
     "output_type": "display_data"
    }
   ],
   "source": [
    "# Plot the uplift curve\n",
    "plt.figure(figsize=(8, 6))\n",
    "plt.plot(\n",
    "    x_axis, \n",
    "    y_axis, \n",
    "    color='b', \n",
    "    label='Uplift Curve'\n",
    ")\n",
    "plt.plot(\n",
    "    [0, max(x_axis)],\n",
    "    [0, max(y_axis)],\n",
    "    \"--\",\n",
    "    color=\"tab:orange\",\n",
    "    label=\"Random Treatment\",\n",
    ")\n",
    "plt.xlabel('Proportion of Population Targeted')\n",
    "plt.ylabel('Cumulative Uplift')\n",
    "plt.title('Uplift Curve')\n",
    "plt.legend(loc='upper left')\n",
    "plt.grid(True)\n",
    "plt.show()"
   ]
  },
  {
   "cell_type": "markdown",
   "id": "b4f3895a-ed58-41e8-a4d9-fca1bc6305e8",
   "metadata": {},
   "source": [
    "We will want to target around the first 20% or 45% of the population, as these have the largest distance from the random treatment curve resulting in highest yielding gain"
   ]
  },
  {
   "cell_type": "code",
   "execution_count": null,
   "id": "83682bc7-f218-42a6-91bf-6669f6d6e069",
   "metadata": {},
   "outputs": [],
   "source": []
  }
 ],
 "metadata": {
  "kernelspec": {
   "display_name": "Python 3 (ipykernel)",
   "language": "python",
   "name": "python3"
  },
  "language_info": {
   "codemirror_mode": {
    "name": "ipython",
    "version": 3
   },
   "file_extension": ".py",
   "mimetype": "text/x-python",
   "name": "python",
   "nbconvert_exporter": "python",
   "pygments_lexer": "ipython3",
   "version": "3.11.9"
  }
 },
 "nbformat": 4,
 "nbformat_minor": 5
}

{
 "cells": [
  {
   "cell_type": "code",
   "execution_count": 88,
   "id": "1398904b-1123-4af0-88a8-2442d791ec30",
   "metadata": {},
   "outputs": [],
   "source": [
    "import pandas as pd\n",
    "from econml.metalearners import TLearner\n",
    "from sklearn.ensemble import GradientBoostingRegressor\n",
    "from sklearn.model_selection import train_test_split\n",
    "from sklearn.metrics import roc_curve, auc\n",
    "import matplotlib.pyplot as plt"
   ]
  },
  {
   "cell_type": "code",
   "execution_count": 37,
   "id": "34175b61-92e8-4256-bb86-9ccfdfc22819",
   "metadata": {},
   "outputs": [
    {
     "data": {
      "text/html": [
       "<div>\n",
       "<style scoped>\n",
       "    .dataframe tbody tr th:only-of-type {\n",
       "        vertical-align: middle;\n",
       "    }\n",
       "\n",
       "    .dataframe tbody tr th {\n",
       "        vertical-align: top;\n",
       "    }\n",
       "\n",
       "    .dataframe thead th {\n",
       "        text-align: right;\n",
       "    }\n",
       "</style>\n",
       "<table border=\"1\" class=\"dataframe\">\n",
       "  <thead>\n",
       "    <tr style=\"text-align: right;\">\n",
       "      <th></th>\n",
       "      <th>recency</th>\n",
       "      <th>history_segment</th>\n",
       "      <th>history</th>\n",
       "      <th>mens</th>\n",
       "      <th>womens</th>\n",
       "      <th>zip_code</th>\n",
       "      <th>newbie</th>\n",
       "      <th>channel</th>\n",
       "      <th>segment</th>\n",
       "      <th>visit</th>\n",
       "      <th>conversion</th>\n",
       "      <th>spend</th>\n",
       "      <th>treatment</th>\n",
       "    </tr>\n",
       "  </thead>\n",
       "  <tbody>\n",
       "    <tr>\n",
       "      <th>0</th>\n",
       "      <td>10</td>\n",
       "      <td>2) $100 - $200</td>\n",
       "      <td>142.44</td>\n",
       "      <td>1</td>\n",
       "      <td>0</td>\n",
       "      <td>Surburban</td>\n",
       "      <td>0</td>\n",
       "      <td>Phone</td>\n",
       "      <td>Womens E-Mail</td>\n",
       "      <td>0</td>\n",
       "      <td>0</td>\n",
       "      <td>0.0</td>\n",
       "      <td>1</td>\n",
       "    </tr>\n",
       "    <tr>\n",
       "      <th>1</th>\n",
       "      <td>6</td>\n",
       "      <td>3) $200 - $350</td>\n",
       "      <td>329.08</td>\n",
       "      <td>1</td>\n",
       "      <td>1</td>\n",
       "      <td>Rural</td>\n",
       "      <td>1</td>\n",
       "      <td>Web</td>\n",
       "      <td>No E-Mail</td>\n",
       "      <td>0</td>\n",
       "      <td>0</td>\n",
       "      <td>0.0</td>\n",
       "      <td>0</td>\n",
       "    </tr>\n",
       "    <tr>\n",
       "      <th>2</th>\n",
       "      <td>7</td>\n",
       "      <td>2) $100 - $200</td>\n",
       "      <td>180.65</td>\n",
       "      <td>0</td>\n",
       "      <td>1</td>\n",
       "      <td>Surburban</td>\n",
       "      <td>1</td>\n",
       "      <td>Web</td>\n",
       "      <td>Womens E-Mail</td>\n",
       "      <td>0</td>\n",
       "      <td>0</td>\n",
       "      <td>0.0</td>\n",
       "      <td>1</td>\n",
       "    </tr>\n",
       "  </tbody>\n",
       "</table>\n",
       "</div>"
      ],
      "text/plain": [
       "   recency history_segment  history  mens  womens   zip_code  newbie channel  \\\n",
       "0       10  2) $100 - $200   142.44     1       0  Surburban       0   Phone   \n",
       "1        6  3) $200 - $350   329.08     1       1      Rural       1     Web   \n",
       "2        7  2) $100 - $200   180.65     0       1  Surburban       1     Web   \n",
       "\n",
       "         segment  visit  conversion  spend  treatment  \n",
       "0  Womens E-Mail      0           0    0.0          1  \n",
       "1      No E-Mail      0           0    0.0          0  \n",
       "2  Womens E-Mail      0           0    0.0          1  "
      ]
     },
     "execution_count": 37,
     "metadata": {},
     "output_type": "execute_result"
    }
   ],
   "source": [
    "df = pd.read_csv(\"data/email_data.csv\")\n",
    "df['treatment'] = df['segment'].map({'No E-Mail': 0, 'Womens E-Mail': 1, 'Mens E-Mail': 2})\n",
    "df = df.query('treatment in [0,1]')\n",
    "n = df.shape[0]\n",
    "df.head(3)"
   ]
  },
  {
   "cell_type": "code",
   "execution_count": 72,
   "id": "d0a437be-326e-48e9-bd69-ead3c61f8b2f",
   "metadata": {},
   "outputs": [],
   "source": [
    "# Features, treatment, and outcome\n",
    "X = df[['recency', 'mens', 'womens']]\n",
    "T = df['treatment']\n",
    "y = df['conversion']"
   ]
  },
  {
   "cell_type": "code",
   "execution_count": 73,
   "id": "c3e79daf-2b63-43de-a775-ede3b4cd1b41",
   "metadata": {},
   "outputs": [],
   "source": [
    "# Split the data into train and test\n",
    "X_train, X_test, T_train, T_test, y_train, y_test = train_test_split(X, T, y, test_size=0.2, random_state=42)"
   ]
  },
  {
   "cell_type": "code",
   "execution_count": 86,
   "id": "d9dbd4a9-64f2-430a-99ad-08a80d32bcbd",
   "metadata": {},
   "outputs": [
    {
     "ename": "NameError",
     "evalue": "name 'TLearnerCV' is not defined",
     "output_type": "error",
     "traceback": [
      "\u001b[0;31m---------------------------------------------------------------------------\u001b[0m",
      "\u001b[0;31mNameError\u001b[0m                                 Traceback (most recent call last)",
      "Cell \u001b[0;32mIn[86], line 2\u001b[0m\n\u001b[1;32m      1\u001b[0m \u001b[38;5;66;03m# Let's use the t-learner as the causal inference model with XGBoost as the underlying estimator\u001b[39;00m\n\u001b[0;32m----> 2\u001b[0m t_learner \u001b[38;5;241m=\u001b[39m \u001b[43mTLearnerCV\u001b[49m(models\u001b[38;5;241m=\u001b[39mGradientBoostingRegressor(n_estimators\u001b[38;5;241m=\u001b[39m\u001b[38;5;241m100\u001b[39m, max_depth\u001b[38;5;241m=\u001b[39m\u001b[38;5;241m10\u001b[39m, min_samples_leaf\u001b[38;5;241m=\u001b[39m\u001b[38;5;28mint\u001b[39m(n\u001b[38;5;241m/\u001b[39m\u001b[38;5;241m100\u001b[39m)))\n",
      "\u001b[0;31mNameError\u001b[0m: name 'TLearnerCV' is not defined"
     ]
    }
   ],
   "source": [
    "# Let's use the t-learner as the causal inference model with XGBoost as the underlying estimator\n",
    "t_learner = TLearner(models=GradientBoostingRegressor(n_estimators=100, max_depth=10, min_samples_leaf=int(n/100)))"
   ]
  },
  {
   "cell_type": "code",
   "execution_count": 81,
   "id": "64d96086-b5de-4d8c-8622-307c6712a84f",
   "metadata": {},
   "outputs": [
    {
     "data": {
      "text/plain": [
       "<econml.metalearners._metalearners.TLearner at 0x7f58a2be54d0>"
      ]
     },
     "execution_count": 81,
     "metadata": {},
     "output_type": "execute_result"
    }
   ],
   "source": [
    "# Fit the model\n",
    "t_learner.fit(y_train, T_train, X=X_train)"
   ]
  },
  {
   "cell_type": "code",
   "execution_count": 82,
   "id": "2db4977e-6a71-4ce1-80ff-675a38195056",
   "metadata": {},
   "outputs": [
    {
     "data": {
      "text/plain": [
       "7730     0\n",
       "17594    1\n",
       "14481    1\n",
       "20003    1\n",
       "19981    0\n",
       "        ..\n",
       "56287    0\n",
       "49518    0\n",
       "6397     1\n",
       "57944    0\n",
       "39945    0\n",
       "Name: treatment, Length: 8539, dtype: int64"
      ]
     },
     "execution_count": 82,
     "metadata": {},
     "output_type": "execute_result"
    }
   ],
   "source": [
    "ite_test = t_learner.effect(X_test)\n",
    "T_test"
   ]
  },
  {
   "cell_type": "code",
   "execution_count": 83,
   "id": "e6ece161-4c4f-4c9b-aff9-5e3e76f0d3dc",
   "metadata": {},
   "outputs": [
    {
     "data": {
      "text/plain": [
       "array([-0.00060955,  0.00512717, -0.00504729, ..., -0.00046733,\n",
       "        0.00913174,  0.00572181])"
      ]
     },
     "execution_count": 83,
     "metadata": {},
     "output_type": "execute_result"
    }
   ],
   "source": [
    "ite_test"
   ]
  },
  {
   "cell_type": "code",
   "execution_count": 84,
   "id": "bc1d4b44-05a6-4074-98c3-18ba5fb3a132",
   "metadata": {},
   "outputs": [],
   "source": [
    "# Calculate the ROC curve and AUC for the estimated uplift on the test set\n",
    "fpr, tpr, thresholds = roc_curve(T_test, ite_test)\n",
    "roc_auc = auc(fpr, tpr)"
   ]
  },
  {
   "cell_type": "code",
   "execution_count": 85,
   "id": "90aba152-5143-4e3e-9a61-91f5e5576dac",
   "metadata": {},
   "outputs": [
    {
     "data": {
      "image/png": "[encoded data removed]",
      "text/plain": [
       "<Figure size 640x480 with 1 Axes>"
      ]
     },
     "metadata": {},
     "output_type": "display_data"
    },
    {
     "name": "stdout",
     "output_type": "stream",
     "text": [
      "AUC for T-Learner uplift model: 0.50\n"
     ]
    }
   ],
   "source": [
    "# Plot the ROC curve\n",
    "plt.figure()\n",
    "plt.plot(fpr, tpr, color='darkorange', lw=2, label='ROC curve (area = %0.2f)' % roc_auc)\n",
    "plt.plot([0, 1], [0, 1], color='navy', lw=2, linestyle='--')\n",
    "plt.xlim([0.0, 1.0])\n",
    "plt.ylim([0.0, 1.05])\n",
    "plt.xlabel('False Positive Rate')\n",
    "plt.ylabel('True Positive Rate')\n",
    "plt.title('Receiver Operating Characteristic (ROC) Curve')\n",
    "plt.legend(loc=\"lower right\")\n",
    "plt.show()\n",
    "\n",
    "print(f\"AUC for T-Learner uplift model: {roc_auc:.2f}\")"
   ]
  },
  {
   "cell_type": "code",
   "execution_count": null,
   "id": "bb9b49f2-f181-44fa-8bc5-096ee0256b76",
   "metadata": {},
   "outputs": [],
   "source": []
  }
 ],
 "metadata": {
  "kernelspec": {
   "display_name": "Python 3 (ipykernel)",
   "language": "python",
   "name": "python3"
  },
  "language_info": {
   "codemirror_mode": {
    "name": "ipython",
    "version": 3
   },
   "file_extension": ".py",
   "mimetype": "text/x-python",
   "name": "python",
   "nbconvert_exporter": "python",
   "pygments_lexer": "ipython3",
   "version": "3.11.9"
  }
 },
 "nbformat": 4,
 "nbformat_minor": 5
}

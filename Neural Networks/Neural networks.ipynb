{
 "cells": [
  {
   "cell_type": "markdown",
   "metadata": {},
   "source": [
    "# Neural Networks"
   ]
  },
  {
   "cell_type": "markdown",
   "metadata": {},
   "source": [
    "# <font color='red'>Part I: Theory</font>\n",
    "\n",
    "#### <font color='red'>Write out the cost function and gradient descent for each layer of a neural network that has 3 inputs in the first layer, 2 inputs in the second hidden layer, and one output.</font>"
   ]
  },
  {
   "cell_type": "markdown",
   "metadata": {},
   "source": [
    "#### <font color='blue'> 1. Definition </font>"
   ]
  },
  {
   "cell_type": "markdown",
   "metadata": {},
   "source": [
    "- Define the sigmoid function $\\sigma(x) = \\dfrac{1}{1+e^{-x}} \\equiv y$ and hence $\\sigma'(x) = \\sigma(x)(1-\\sigma(x)) = y(1-y).$ "
   ]
  },
  {
   "cell_type": "markdown",
   "metadata": {},
   "source": [
    "- Define $z_i^{l}$ as the input of unit $i$ in layer $l$ and $a_i^{l} = \\sigma(z_i^{l})$ as its corrsponding \"activiation\".\n",
    "\n",
    "    $\\Rightarrow$ $1^{st}$ layer: $\\exists$ 4 elements: $a_0^{(1)} = \\sigma(z_0^{(1)}), a_1^{(1)} = \\sigma(z_1^{(1)}), a_2^{(1)} = \\sigma(z_2^{(1)}), a_3^{(1)} = \\sigma(z_3^{(1)})$, where $a_0^{(1)}$ is the constant and $a_i^{(1)}$ are input nodes.\n",
    "    \n",
    "    $\\Rightarrow$ $2^{nd}$ layer: $\\exists$ 3 elements: $a_0^{(2)} = \\sigma(z_0^{(2)}), a_1^{(2)} = \\sigma(z_1^{(2)}), a_2^{(2)} = \\sigma(z_2^{(2)}),$ where $a_0^{(2)}$ is the constant. \n",
    "    \n",
    "    $\\Rightarrow$ $3^{rd}$ layer: $\\exists$ one element: $a_1^{(3)} = h_{\\Theta} (\\boldsymbol{x}) = \\sigma(z^3)$ which is the output of the NN."
   ]
  },
  {
   "cell_type": "markdown",
   "metadata": {},
   "source": [
    "- Define $\\Theta_{ij}^{(l)}$ as the weighting function that transforms unit $j$ in layer $l$ to unit $i$ in layer $l+1$."
   ]
  },
  {
   "cell_type": "markdown",
   "metadata": {},
   "source": [
    "- Define $\\delta_j^{(l)} = \\dfrac{\\partial J(\\Theta)}{\\partial z_j^{l}}$ as the \"error\" of unit $j$ in layer $l$, where $J(\\Theta)$ is defined in part 2. "
   ]
  },
  {
   "cell_type": "markdown",
   "metadata": {},
   "source": [
    "#### <font color='blue'> 2. Cost function </font>"
   ]
  },
  {
   "cell_type": "markdown",
   "metadata": {},
   "source": [
    "The cost function with regularization for a neural network can be express as:"
   ]
  },
  {
   "cell_type": "markdown",
   "metadata": {},
   "source": [
    "$J(\\Theta) = -\\dfrac{1}{n} \\{\\sum^N_{i=1} [y_{i} log(h_{\\Theta} (\\boldsymbol{x}_i)) + (1-y_{i}) log(1-(h_\\Theta(\\boldsymbol{x}_i))]\\} + \\dfrac{\\lambda}{2n} \\sum^{L-1}_{l=1}\\sum^{s_l-1}_{i=1}\\sum^{s_l}_{j=1}(\\Theta^{(l)}_{ji})^2$"
   ]
  },
  {
   "cell_type": "markdown",
   "metadata": {},
   "source": [
    "We solve via $min_{\\Theta} J(\\Theta)$ and we have $\\dfrac{\\partial J(\\Theta)}{\\partial \\Theta_{ij}^l} = a_j^l\\delta_i^{l+1}$, where $a_j^{l}$ is acquired from forward propagation and $\\delta_i^{l+1}$ is computed from backpropagation. "
   ]
  },
  {
   "cell_type": "markdown",
   "metadata": {},
   "source": [
    "#### <font color='blue'> 3. Gradient of each layer </font>"
   ]
  },
  {
   "cell_type": "markdown",
   "metadata": {},
   "source": [
    "Given one labeled training instance $(\\boldsymbol{x}, y), J^*(\\Theta) = -ylog(h_\\Theta(\\boldsymbol{x})) - (1-y)(1-log(h_\\Theta(\\boldsymbol{x}))$ "
   ]
  },
  {
   "cell_type": "markdown",
   "metadata": {},
   "source": [
    "To apply chain rule, let's start backwards: "
   ]
  },
  {
   "cell_type": "markdown",
   "metadata": {},
   "source": [
    "For the $3^{rd}$ layer, $\\delta^{(3)} = \\dfrac{\\partial J^*(\\Theta)}{\\partial z_1^{(3)}} = a_1^{(3)} - y$"
   ]
  },
  {
   "cell_type": "markdown",
   "metadata": {},
   "source": [
    "For the $2^{nd}$ layer, $\\dfrac{\\partial J^*(\\Theta)}{\\partial \\Theta_{1j}^{(2)}} = a_i^{(2)}\\delta_j^{(3)} = a_j^{(2)}(a_1^{(3)} - y)$, and $\\delta^{(2)} = \\dfrac{\\partial J^*(\\Theta)}{\\partial z_i^{(2)}} = \\dfrac{\\partial J^*(\\Theta)}{\\partial z_1^{(3)}} \\times \\dfrac{\\partial z_1^{(3)}}{\\partial a_i^{(2)}} \\times \\dfrac{\\partial a_i^{(2)}}{\\partial z_i^{(2)}} = (a_1^{(3)} - y) \\times \\Theta_{1i}^{(2)} \\times a_i^{(2)}(1-a_i^{(2)}).$"
   ]
  },
  {
   "cell_type": "markdown",
   "metadata": {},
   "source": [
    "For the $1^{st}$ layer, $\\dfrac{\\partial J^*(\\Theta)}{\\partial \\Theta_{ij}^{(1)}} = a_j^{(1)} \\delta_i^{(2)} = a_j^{(1)} \\times (a_1^{(3)} - y) \\times \\Theta_{1i}^{(2)} \\times a_i^{(2)}(1-a_i^{(2)}).$"
   ]
  },
  {
   "cell_type": "markdown",
   "metadata": {},
   "source": [
    "#### <font color='blue'> 4. Gradient descent method </font>"
   ]
  },
  {
   "cell_type": "markdown",
   "metadata": {},
   "source": [
    "Based on part 3, let's apply the gradient descent, which is $\\Theta_{ij}^{(l)} := \\Theta_{ij}^{(l)} - \\alpha\\dfrac{\\partial J(\\Theta)}{\\partial \\Theta_{ij}^l} = \\Theta_{ij}^{(l)} - \\alpha\\delta_j^{(l+1)},$ \n",
    "\n",
    "where $\\alpha$ is the learning rate and it can be inferred from $\\dfrac{\\partial J^*(\\Theta)}{\\partial \\Theta_{1j}^{(2)}}$ and $\\dfrac{\\partial J^*(\\Theta)}{\\partial \\Theta_{ij}^{(1)}}$ that:\n",
    "\n",
    "- $\\dfrac{\\partial J(\\Theta)}{\\partial \\Theta_{1j}^{(2)}} = \\dfrac{1}{N} \\sum^N_{i=1} [a_j^{(2)}(a_1^{(3)} - y)] + \\dfrac{\\lambda}{n} \\Theta_{1j}^{(2)}$;\n",
    "\n",
    "\n",
    "\n",
    "\n",
    "- $\\dfrac{\\partial J(\\Theta)}{\\partial \\Theta_{ij}^{(1)}} = \\dfrac{1}{N} \\sum^N_{i=1} [a_j^{(1)} \\times (a_1^{(3)} - y) \\times \\Theta_{1i}^{(2)} \\times a_i^{(2)}(1-a_i^{(2)})] + \\dfrac{\\lambda}{n} \\Theta_{ij}^{(1)}$."
   ]
  },
  {
   "cell_type": "markdown",
   "metadata": {},
   "source": [
    "# <font color='red'>Part II: Simulation</font>"
   ]
  },
  {
   "cell_type": "markdown",
   "metadata": {},
   "source": [
    "###  <font color='blue'>2.a) Simulate the data </font>"
   ]
  },
  {
   "cell_type": "code",
   "execution_count": 1,
   "metadata": {},
   "outputs": [],
   "source": [
    "# libraries\n",
    "import numpy as np\n",
    "import pandas as pd\n",
    "from sklearn.datasets import make_classification"
   ]
  },
  {
   "cell_type": "code",
   "execution_count": 2,
   "metadata": {},
   "outputs": [],
   "source": [
    "X_train, Y_train = make_classification(n_samples = 500,     # 500 observations\n",
    "                                       n_features = 3,      # 3 features\n",
    "                                       n_informative = 2,   # 2 informative\n",
    "                                       n_redundant = 1,     # 1 redundant\n",
    "                                       n_classes = 2,       # 2 classes output\n",
    "                                       weights=[0.3,0.7])   # 0.3 and 0.7\n",
    "X_test, Y_test = make_classification(n_samples = 100,        # 100 observations\n",
    "                                       n_features = 3,      # 3 features\n",
    "                                       n_informative = 2,   # 2 informative\n",
    "                                       n_redundant = 1,     # 1 redundant\n",
    "                                       n_classes = 2,       # 2 classes output\n",
    "                                       weights=[0.3,0.7])   # 0.3 and 0.7"
   ]
  },
  {
   "cell_type": "markdown",
   "metadata": {},
   "source": [
    "###  <font color='blue'>2.b) A single hidden layer NN via backpropagation and weight decay </font>"
   ]
  },
  {
   "cell_type": "markdown",
   "metadata": {},
   "source": [
    "####  Define a series of functions"
   ]
  },
  {
   "cell_type": "code",
   "execution_count": 3,
   "metadata": {},
   "outputs": [],
   "source": [
    "def sigmoid(z):\n",
    "    s = 1/(1+np.exp(-z))\n",
    "    return s"
   ]
  },
  {
   "cell_type": "code",
   "execution_count": 4,
   "metadata": {},
   "outputs": [
    {
     "name": "stderr",
     "output_type": "stream",
     "text": [
      "<>:14: SyntaxWarning: assertion is always true, perhaps remove parentheses?\n",
      "<>:14: SyntaxWarning: assertion is always true, perhaps remove parentheses?\n"
     ]
    }
   ],
   "source": [
    "import warnings\n",
    "warnings.filterwarnings('ignore')\n",
    "\n",
    "def initialize_parameters(layer_dims):\n",
    "    np.random.seed(3)\n",
    "    parameters = {}\n",
    "    L = len(layer_dims) # number of layers in the network\n",
    "\n",
    "    for l in range(1, L):\n",
    "        parameters['W' + str(l)] = np.random.randn(layer_dims[l-1], layer_dims[l]) * 0.01#np.sqrt(2 / layer_dims[l - 1])\n",
    "        parameters['b' + str(l)] = np.zeros((layer_dims[l], 1))\n",
    "        \n",
    "        assert(parameters['W' + str(l)].shape == (layer_dims[l-1], layer_dims[l]))\n",
    "        assert(parameters['b' + str(l)].shape == layer_dims[l], 1)\n",
    "        \n",
    "    return parameters"
   ]
  },
  {
   "cell_type": "code",
   "execution_count": 5,
   "metadata": {},
   "outputs": [],
   "source": [
    "def compute_cost(A3, Y):\n",
    "    m = len(Y)\n",
    "    Y_hat = A3.transpose()\n",
    "    this_loss = -(np.log(Y_hat) * Y + (1 - Y)*np.log(1 - Y_hat))\n",
    "    cost = 1/m * np.sum(this_loss)\n",
    "    #\n",
    "    return cost\n",
    "\n",
    "def compute_cost_with_regularization(A3, Y, parameters, lambd):\n",
    "    m = Y.shape[0]\n",
    "    Y_hat = A3.transpose()\n",
    "    W1 = parameters['W1']\n",
    "    W2 = parameters['W2']\n",
    "    cross_entroy_cost = compute_cost(A3,Y)\n",
    "\n",
    "    L2_regularization_cost = lambd * (np.linalg.norm(W1) + np.linalg.norm(W2)) / (2 * m)\n",
    "    \n",
    "    cost = cross_entroy_cost + L2_regularization_cost\n",
    "    return cost"
   ]
  },
  {
   "cell_type": "code",
   "execution_count": 6,
   "metadata": {},
   "outputs": [],
   "source": [
    "def forward_propagation(X, parameters):\n",
    "        \n",
    "    # retrieve parameters\n",
    "    W1 = parameters[\"W1\"]\n",
    "    b1 = parameters[\"b1\"]\n",
    "    W2 = parameters[\"W2\"]\n",
    "    b2 = parameters[\"b2\"]\n",
    "\n",
    "    Z1 = X @ W1  + b1.transpose()\n",
    "    A1 = Z1\n",
    "\n",
    "    Z2 = A1 @ W2 + b2.transpose()\n",
    "    A2 = sigmoid(Z2) # we do need sigmoid to make these positive\n",
    "\n",
    "    return A1, A2, Z1, Z2"
   ]
  },
  {
   "cell_type": "code",
   "execution_count": 7,
   "metadata": {},
   "outputs": [],
   "source": [
    "def predict(X, y, parameters):\n",
    "\n",
    "    A1, A2, Z1, Z2 = forward_propagation(X, parameters)\n",
    "    pred = pd.DataFrame(A2, columns = [\"y\"])\n",
    "    pred['y_map'] = pd.Series(np.zeros(pred.shape[0]))\n",
    "    pred.loc[pred['y']>0.5, 'y_map'] = 1\n",
    "    print('Accuracy =', np.mean(pred[\"y_map\"] == y[0:]))\n",
    "    p = pred[\"y_map\"]\n",
    "    \n",
    "    return p"
   ]
  },
  {
   "cell_type": "code",
   "execution_count": 8,
   "metadata": {},
   "outputs": [],
   "source": [
    "def update_parameters(parameters, grads, learning_rate):\n",
    "\n",
    "    W1 = parameters[\"W1\"]\n",
    "    W2 = parameters[\"W2\"]\n",
    "    b1 = parameters[\"b1\"]\n",
    "    b2 = parameters[\"b2\"]\n",
    "    \n",
    "    dW1 = grads[\"dW1\"]\n",
    "    dW2 = grads[\"dW2\"]\n",
    "    db1 = grads[\"db1\"]\n",
    "    db2 = grads[\"db2\"]\n",
    "    \n",
    "    W1_new = W1 - (learning_rate * dW1).transpose()\n",
    "    W2_new = W2 - (learning_rate * dW2).transpose()\n",
    "    b1_new = b1 - learning_rate * db1\n",
    "    b2_new = b2 - learning_rate * db2\n",
    "    \n",
    "    parameters_new = {}\n",
    "    parameters_new[\"W1\"] = W1_new\n",
    "    parameters_new[\"W2\"] = W2_new\n",
    "    parameters_new[\"b1\"] = b1_new\n",
    "    parameters_new[\"b2\"] = b2_new\n",
    "    \n",
    "    return parameters_new"
   ]
  },
  {
   "cell_type": "code",
   "execution_count": 9,
   "metadata": {},
   "outputs": [],
   "source": [
    "def backward_propagation_with_regularization(X, Y, cache, lambd):\n",
    "    \n",
    "    m = X.shape[1]\n",
    "    (Z1,A1,W1,b1,Z2,A2,W2,b2) = cache\n",
    "    \n",
    "    Y_hat = A2.transpose()\n",
    "    dZ2 = Y_hat - Y\n",
    "\n",
    "    sigma_prime = lambda Z: sigmoid(Z)*(1-sigmoid(Z))\n",
    "    nochange_prime = lambda Z, X: np.tile(1, (X.shape[0], A1.shape[1]))\n",
    "\n",
    "    dW2 = (1/m)*dZ2 * sigma_prime(Z2.transpose()) @ A1 + (lambd*np.mean(W2))\n",
    "    db2 = (1/m)*np.sum(dZ2 * sigma_prime(Z2.transpose()), axis=1, keepdims=True)\n",
    "\n",
    "    dW1 = (1/m)*((dZ2 * sigma_prime(Z2.transpose())).T @ W2.T * nochange_prime(Z1, X)).T @ X + (lambd*np.mean(W1))\n",
    "    db1 = (1/m)*np.sum(((dZ2 * sigma_prime(Z2.transpose())).T @ W2.T * nochange_prime(Z1, X)).T, axis=1, keepdims=True)\n",
    "    \n",
    "    grads = {}\n",
    "    grads[\"dW1\"] = dW1\n",
    "    grads[\"dW2\"] = dW2\n",
    "    grads[\"db1\"] = db1\n",
    "    grads[\"db2\"] = db2\n",
    "\n",
    "    return grads"
   ]
  },
  {
   "cell_type": "code",
   "execution_count": 10,
   "metadata": {},
   "outputs": [],
   "source": [
    "def backward_propagation(X, Y, cache):\n",
    "    m = X.shape[1]\n",
    "    (Z1,A1,W1,b1,Z2,A2,W2,b2) = cache\n",
    "    \n",
    "    Y_hat = A2.transpose()\n",
    "    dZ2 = Y_hat - Y\n",
    "\n",
    "    sigma_prime = lambda Z: sigmoid(Z)*(1-sigmoid(Z))\n",
    "    nochange_prime = lambda Z, X: np.tile(1, (X.shape[0], A1.shape[1]))\n",
    "\n",
    "    dW2 = (1/m)*dZ2 * sigma_prime(Z2.transpose()) @ A1 \n",
    "    db2 = (1/m)*np.sum(dZ2 * sigma_prime(Z2.transpose()), axis=1, keepdims=True)\n",
    "\n",
    "    dW1 = (1/m)*((dZ2 * sigma_prime(Z2.transpose())).T @ W2.T * nochange_prime(Z1, X)).T @ X \n",
    "    db1 = (1/m)*np.sum(((dZ2 * sigma_prime(Z2.transpose())).T @ W2.T * nochange_prime(Z1, X)).T, axis=1, keepdims=True)\n",
    "    \n",
    "    grads = {}\n",
    "    grads[\"dW1\"] = dW1\n",
    "    grads[\"dW2\"] = dW2\n",
    "    grads[\"db1\"] = db1\n",
    "    grads[\"db2\"] = db2\n",
    "\n",
    "    return grads"
   ]
  },
  {
   "cell_type": "markdown",
   "metadata": {},
   "source": [
    "####  Put the functions together into one model"
   ]
  },
  {
   "cell_type": "code",
   "execution_count": 11,
   "metadata": {},
   "outputs": [],
   "source": [
    "def model(X, Y, learning_rate, num_iterations, print_cost, lambd, h):        \n",
    "    grads = {}\n",
    "    costs = []                           \n",
    "    m = X.shape[1]                       \n",
    "    layers_dims = [X.shape[1], h, 1]\n",
    "    \n",
    "    # Initialize parameters dictionary.\n",
    "    parameters = initialize_parameters(layers_dims)\n",
    "\n",
    "    # Gradient descent\n",
    "    for i in range(0, num_iterations):\n",
    "\n",
    "        # Forward propagation\n",
    "        A1, A2, Z1, Z2 = forward_propagation(X, parameters)\n",
    "        \n",
    "        # Cost function\n",
    "        if lambd == 0:\n",
    "            cost = compute_cost(A2, Y)\n",
    "        else:\n",
    "            cost = compute_cost_with_regularization(A2, Y, parameters, lambd)\n",
    "            \n",
    "        # Backward propagation.\n",
    "        W1 = parameters[\"W1\"]\n",
    "        W2 = parameters[\"W2\"]\n",
    "        b1 = parameters[\"b1\"]\n",
    "        b2 = parameters[\"b2\"]\n",
    "        cache = (Z1,A1,W1,b1,Z2,A2,W2,b2)\n",
    "        keep_prob = 1\n",
    "        assert(lambd == 0 or keep_prob == 1)   \n",
    "        if lambd == 0 and keep_prob == 1:\n",
    "            grads = backward_propagation(X, Y, cache)\n",
    "        elif lambd != 0:\n",
    "            grads = backward_propagation_with_regularization(X, Y, cache, lambd)\n",
    "        elif keep_prob < 1:\n",
    "            grads = backward_propagation_with_dropout(X, Y, cache, keep_prob)\n",
    "        \n",
    "        # Update parameters.\n",
    "        parameters = update_parameters(parameters, grads, learning_rate)\n",
    "        \n",
    "        # Print the loss every 10000 iterations\n",
    "        if print_cost and i % 1000 == 0:\n",
    "            print(\"Cost after iteration {}: {}\".format(i, cost))\n",
    "        if print_cost and i % 1000 == 0:\n",
    "            costs.append(cost)                  \n",
    "    \n",
    "    # plot the cost\n",
    "    plt.plot(costs)\n",
    "    plt.ylabel('cost')\n",
    "    plt.xlabel('iterations (x1,000)')\n",
    "    plt.title(\"Learning rate =\" + str(learning_rate)+\", Lambda =\" +str(lambd))\n",
    "    plt.show()\n",
    "    \n",
    "    return parameters"
   ]
  },
  {
   "cell_type": "markdown",
   "metadata": {},
   "source": [
    "###  <font color='blue'>2.c) Apply to the simulated data </font>"
   ]
  },
  {
   "cell_type": "code",
   "execution_count": 12,
   "metadata": {},
   "outputs": [
    {
     "name": "stdout",
     "output_type": "stream",
     "text": [
      "Cost after iteration 0: 0.6929862779684034\n",
      "Cost after iteration 1000: 0.19744082565861792\n",
      "Cost after iteration 2000: 0.19744082565861792\n",
      "Cost after iteration 3000: 0.19744082565861792\n",
      "Cost after iteration 4000: 0.19744082565861792\n",
      "Cost after iteration 5000: 0.19744082565861792\n",
      "Cost after iteration 6000: 0.19744082565861792\n",
      "Cost after iteration 7000: 0.19744082565861792\n",
      "Cost after iteration 8000: 0.19744082565861792\n",
      "Cost after iteration 9000: 0.19744082565861792\n"
     ]
    },
    {
     "data": {
      "image/png": "[encoded data removed]",
      "text/plain": [
       "<Figure size 432x288 with 1 Axes>"
      ]
     },
     "metadata": {
      "needs_background": "light"
     },
     "output_type": "display_data"
    },
    {
     "name": "stdout",
     "output_type": "stream",
     "text": [
      "Accuracy = 0.924\n",
      "Accuracy = 0.88\n"
     ]
    }
   ],
   "source": [
    "import matplotlib.pyplot as plt\n",
    "import warnings\n",
    "warnings.filterwarnings('ignore')\n",
    "parameters = model(X_train, Y_train, learning_rate = 0.1, num_iterations = 10000, print_cost = True, lambd = 0.3, h = 10)\n",
    "\n",
    "# accuracy over training set \n",
    "pre_train = predict(X_train,Y_train,parameters)\n",
    "\n",
    "# accuracy over training set \n",
    "pre_test = predict(X_test,Y_test,parameters)"
   ]
  },
  {
   "cell_type": "markdown",
   "metadata": {},
   "source": [
    "###  <font color='blue'>2.d) Training accuracy for different values of weight decay parameter ($\\lambda$, the regularization term)</font>"
   ]
  },
  {
   "cell_type": "markdown",
   "metadata": {},
   "source": [
    "####  Lambda = 0.0001"
   ]
  },
  {
   "cell_type": "code",
   "execution_count": 13,
   "metadata": {},
   "outputs": [
    {
     "name": "stdout",
     "output_type": "stream",
     "text": [
      "Cost after iteration 0: 0.6929591658990044\n",
      "Cost after iteration 1000: 0.1962871590730892\n",
      "Cost after iteration 2000: 0.1962871590730892\n",
      "Cost after iteration 3000: 0.1962871590730892\n",
      "Cost after iteration 4000: 0.1962871590730892\n",
      "Cost after iteration 5000: 0.1962871590730892\n",
      "Cost after iteration 6000: 0.1962871590730892\n",
      "Cost after iteration 7000: 0.1962871590730892\n",
      "Cost after iteration 8000: 0.1962871590730892\n",
      "Cost after iteration 9000: 0.1962871590730892\n"
     ]
    },
    {
     "data": {
      "image/png": "[encoded data removed]",
      "text/plain": [
       "<Figure size 432x288 with 1 Axes>"
      ]
     },
     "metadata": {
      "needs_background": "light"
     },
     "output_type": "display_data"
    },
    {
     "name": "stdout",
     "output_type": "stream",
     "text": [
      "Accuracy = 0.924\n",
      "Accuracy = 0.88\n"
     ]
    }
   ],
   "source": [
    "parameters = model(X_train, Y_train, learning_rate = 0.1, num_iterations = 10000, print_cost = True, lambd = 0.0001, h = 10)\n",
    "\n",
    "# accuracy over training set \n",
    "pre_train = predict(X_train,Y_train,parameters)\n",
    "\n",
    "# accuracy over training set \n",
    "pre_test = predict(X_test,Y_test,parameters)"
   ]
  },
  {
   "cell_type": "markdown",
   "metadata": {},
   "source": [
    "####  Lambda = 0"
   ]
  },
  {
   "cell_type": "code",
   "execution_count": 14,
   "metadata": {},
   "outputs": [
    {
     "name": "stdout",
     "output_type": "stream",
     "text": [
      "Cost after iteration 0: 0.6929591658990044\n",
      "Cost after iteration 1000: 0.1962871590730892\n",
      "Cost after iteration 2000: 0.1962871590730892\n",
      "Cost after iteration 3000: 0.1962871590730892\n",
      "Cost after iteration 4000: 0.1962871590730892\n",
      "Cost after iteration 5000: 0.1962871590730892\n",
      "Cost after iteration 6000: 0.1962871590730892\n",
      "Cost after iteration 7000: 0.1962871590730892\n",
      "Cost after iteration 8000: 0.1962871590730892\n",
      "Cost after iteration 9000: 0.1962871590730892\n"
     ]
    },
    {
     "data": {
      "image/png": "[encoded data removed]",
      "text/plain": [
       "<Figure size 432x288 with 1 Axes>"
      ]
     },
     "metadata": {
      "needs_background": "light"
     },
     "output_type": "display_data"
    },
    {
     "name": "stdout",
     "output_type": "stream",
     "text": [
      "Accuracy = 0.924\n",
      "Accuracy = 0.88\n"
     ]
    }
   ],
   "source": [
    "parameters = model(X_train, Y_train, learning_rate = 0.1, num_iterations = 10000, print_cost = True, lambd = 0.0, h = 10)\n",
    "\n",
    "# accuracy over training set \n",
    "pre_train = predict(X_train,Y_train,parameters)\n",
    "\n",
    "# accuracy over training set \n",
    "pre_test = predict(X_test,Y_test,parameters)"
   ]
  },
  {
   "cell_type": "markdown",
   "metadata": {},
   "source": [
    "####  Lambda = 2"
   ]
  },
  {
   "cell_type": "code",
   "execution_count": 15,
   "metadata": {},
   "outputs": [
    {
     "name": "stdout",
     "output_type": "stream",
     "text": [
      "Cost after iteration 0: 0.6931399130283309\n",
      "Cost after iteration 1000: 0.2039636844025116\n",
      "Cost after iteration 2000: 0.2039636844025116\n",
      "Cost after iteration 3000: 0.2039636844025116\n",
      "Cost after iteration 4000: 0.2039636844025116\n",
      "Cost after iteration 5000: 0.2039636844025116\n",
      "Cost after iteration 6000: 0.2039636844025116\n",
      "Cost after iteration 7000: 0.2039636844025116\n",
      "Cost after iteration 8000: 0.2039636844025116\n",
      "Cost after iteration 9000: 0.2039636844025116\n"
     ]
    },
    {
     "data": {
      "image/png": "[encoded data removed]",
      "text/plain": [
       "<Figure size 432x288 with 1 Axes>"
      ]
     },
     "metadata": {
      "needs_background": "light"
     },
     "output_type": "display_data"
    },
    {
     "name": "stdout",
     "output_type": "stream",
     "text": [
      "Accuracy = 0.924\n",
      "Accuracy = 0.88\n"
     ]
    }
   ],
   "source": [
    "model(X_train, Y_train, learning_rate = 0.1, num_iterations = 10000, print_cost = True, lambd = 2, h = 10)\n",
    "\n",
    "# accuracy over training set \n",
    "pre_train = predict(X_train,Y_train,parameters)\n",
    "\n",
    "# accuracy over training set \n",
    "pre_test = predict(X_test,Y_test,parameters)"
   ]
  },
  {
   "cell_type": "markdown",
   "metadata": {},
   "source": [
    "As shown above, we have a minor overfitting problem for all $\\lambda$s, with the accuracy of the test set (=0.88) being slightly lower than that of the training set (=0.924). "
   ]
  },
  {
   "cell_type": "markdown",
   "metadata": {},
   "source": [
    "###  <font color='blue'>2.e) Vary the number of hidden layers from 1 to 10</font>"
   ]
  },
  {
   "cell_type": "markdown",
   "metadata": {},
   "source": [
    "####  Layer = 1"
   ]
  },
  {
   "cell_type": "code",
   "execution_count": 16,
   "metadata": {},
   "outputs": [
    {
     "name": "stdout",
     "output_type": "stream",
     "text": [
      "Cost after iteration 0: 0.6931959126636198\n",
      "Cost after iteration 1000: 0.1979040579353267\n",
      "Cost after iteration 2000: 0.1984490175424456\n",
      "Cost after iteration 3000: 0.19884901895009943\n",
      "Cost after iteration 4000: 0.19915695186523427\n",
      "Cost after iteration 5000: 0.19940738199615066\n",
      "Cost after iteration 6000: 0.19961907005747206\n",
      "Cost after iteration 7000: 0.1998029702870005\n",
      "Cost after iteration 8000: 0.20037390161446358\n",
      "Cost after iteration 9000: 0.20028050571129283\n"
     ]
    },
    {
     "data": {
      "image/png": "[encoded data removed]",
      "text/plain": [
       "<Figure size 432x288 with 1 Axes>"
      ]
     },
     "metadata": {
      "needs_background": "light"
     },
     "output_type": "display_data"
    },
    {
     "name": "stdout",
     "output_type": "stream",
     "text": [
      "Accuracy = 0.922\n",
      "Accuracy = 0.72\n"
     ]
    }
   ],
   "source": [
    "parameters = model(X_train, Y_train, learning_rate = 0.1, num_iterations = 10000, print_cost = True, lambd = 0.3, h = 1)\n",
    "\n",
    "# accuracy over training set \n",
    "pre_train = predict(X_train,Y_train,parameters)\n",
    "\n",
    "# accuracy over training set \n",
    "pre_test = predict(X_test,Y_test,parameters)"
   ]
  },
  {
   "cell_type": "markdown",
   "metadata": {},
   "source": [
    "####  Layer = 2"
   ]
  },
  {
   "cell_type": "code",
   "execution_count": 17,
   "metadata": {},
   "outputs": [
    {
     "name": "stdout",
     "output_type": "stream",
     "text": [
      "Cost after iteration 0: 0.693106135951093\n",
      "Cost after iteration 1000: 0.19754071380875943\n",
      "Cost after iteration 2000: 0.1975407138089247\n",
      "Cost after iteration 3000: 0.1975407138089247\n",
      "Cost after iteration 4000: 0.1975407138089247\n",
      "Cost after iteration 5000: 0.1975407138089247\n",
      "Cost after iteration 6000: 0.1975407138089247\n",
      "Cost after iteration 7000: 0.1975407138089247\n",
      "Cost after iteration 8000: 0.1975407138089247\n",
      "Cost after iteration 9000: 0.1975407138089247\n"
     ]
    },
    {
     "data": {
      "image/png": "[encoded data removed]",
      "text/plain": [
       "<Figure size 432x288 with 1 Axes>"
      ]
     },
     "metadata": {
      "needs_background": "light"
     },
     "output_type": "display_data"
    },
    {
     "name": "stdout",
     "output_type": "stream",
     "text": [
      "Accuracy = 0.924\n",
      "Accuracy = 0.88\n"
     ]
    }
   ],
   "source": [
    "parameters = model(X_train, Y_train, learning_rate = 0.1, num_iterations = 10000, print_cost = True, lambd = 0.3, h = 2)\n",
    "\n",
    "# accuracy over training set \n",
    "pre_train = predict(X_train,Y_train,parameters)\n",
    "\n",
    "# accuracy over training set \n",
    "pre_test = predict(X_test,Y_test,parameters)"
   ]
  },
  {
   "cell_type": "markdown",
   "metadata": {},
   "source": [
    "####  Layer = 3"
   ]
  },
  {
   "cell_type": "code",
   "execution_count": 18,
   "metadata": {},
   "outputs": [
    {
     "name": "stdout",
     "output_type": "stream",
     "text": [
      "Cost after iteration 0: 0.6931337380096821\n",
      "Cost after iteration 1000: 0.1975336038441954\n",
      "Cost after iteration 2000: 0.1975336038443027\n",
      "Cost after iteration 3000: 0.1975336038443027\n",
      "Cost after iteration 4000: 0.1975336038443027\n",
      "Cost after iteration 5000: 0.1975336038443027\n",
      "Cost after iteration 6000: 0.1975336038443027\n",
      "Cost after iteration 7000: 0.1975336038443027\n",
      "Cost after iteration 8000: 0.1975336038443027\n",
      "Cost after iteration 9000: 0.1975336038443027\n"
     ]
    },
    {
     "data": {
      "image/png": "[encoded data removed]",
      "text/plain": [
       "<Figure size 432x288 with 1 Axes>"
      ]
     },
     "metadata": {
      "needs_background": "light"
     },
     "output_type": "display_data"
    },
    {
     "name": "stdout",
     "output_type": "stream",
     "text": [
      "Accuracy = 0.924\n",
      "Accuracy = 0.88\n"
     ]
    }
   ],
   "source": [
    "parameters = model(X_train, Y_train, learning_rate = 0.1, num_iterations = 10000, print_cost = True, lambd = 0.3, h = 3)\n",
    "\n",
    "# accuracy over training set \n",
    "pre_train = predict(X_train,Y_train,parameters)\n",
    "\n",
    "# accuracy over training set \n",
    "pre_test = predict(X_test,Y_test,parameters)"
   ]
  },
  {
   "cell_type": "markdown",
   "metadata": {},
   "source": [
    "####  Layer = 4"
   ]
  },
  {
   "cell_type": "code",
   "execution_count": 19,
   "metadata": {},
   "outputs": [
    {
     "name": "stdout",
     "output_type": "stream",
     "text": [
      "Cost after iteration 0: 0.6931615558765535\n",
      "Cost after iteration 1000: 0.1974561854298122\n",
      "Cost after iteration 2000: 0.19745618542981225\n",
      "Cost after iteration 3000: 0.19745618542981225\n",
      "Cost after iteration 4000: 0.19745618542981225\n",
      "Cost after iteration 5000: 0.19745618542981225\n",
      "Cost after iteration 6000: 0.19745618542981225\n",
      "Cost after iteration 7000: 0.19745618542981225\n",
      "Cost after iteration 8000: 0.19745618542981225\n",
      "Cost after iteration 9000: 0.19745618542981225\n"
     ]
    },
    {
     "data": {
      "image/png": "[encoded data removed]",
      "text/plain": [
       "<Figure size 432x288 with 1 Axes>"
      ]
     },
     "metadata": {
      "needs_background": "light"
     },
     "output_type": "display_data"
    },
    {
     "name": "stdout",
     "output_type": "stream",
     "text": [
      "Accuracy = 0.924\n",
      "Accuracy = 0.88\n"
     ]
    }
   ],
   "source": [
    "parameters = model(X_train, Y_train, learning_rate = 0.1, num_iterations = 10000, print_cost = True, lambd = 0.3, h = 4)\n",
    "\n",
    "# accuracy over training set \n",
    "pre_train = predict(X_train,Y_train,parameters)\n",
    "\n",
    "# accuracy over training set \n",
    "pre_test = predict(X_test,Y_test,parameters)"
   ]
  },
  {
   "cell_type": "markdown",
   "metadata": {},
   "source": [
    "####  Layer = 5"
   ]
  },
  {
   "cell_type": "code",
   "execution_count": 20,
   "metadata": {},
   "outputs": [
    {
     "name": "stdout",
     "output_type": "stream",
     "text": [
      "Cost after iteration 0: 0.6930934610086948\n",
      "Cost after iteration 1000: 0.19756577386721044\n",
      "Cost after iteration 2000: 0.19756577386782415\n",
      "Cost after iteration 3000: 0.19756577386782415\n",
      "Cost after iteration 4000: 0.19756577386782415\n",
      "Cost after iteration 5000: 0.19756577386782415\n",
      "Cost after iteration 6000: 0.19756577386782415\n",
      "Cost after iteration 7000: 0.19756577386782415\n",
      "Cost after iteration 8000: 0.19756577386782415\n",
      "Cost after iteration 9000: 0.19756577386782415\n"
     ]
    },
    {
     "data": {
      "image/png": "[encoded data removed]",
      "text/plain": [
       "<Figure size 432x288 with 1 Axes>"
      ]
     },
     "metadata": {
      "needs_background": "light"
     },
     "output_type": "display_data"
    },
    {
     "name": "stdout",
     "output_type": "stream",
     "text": [
      "Accuracy = 0.924\n",
      "Accuracy = 0.88\n"
     ]
    }
   ],
   "source": [
    "parameters = model(X_train, Y_train, learning_rate = 0.1, num_iterations = 10000, print_cost = True, lambd = 0.3, h = 5)\n",
    "\n",
    "# accuracy over training set \n",
    "pre_train = predict(X_train,Y_train,parameters)\n",
    "\n",
    "# accuracy over training set \n",
    "pre_test = predict(X_test,Y_test,parameters)"
   ]
  },
  {
   "cell_type": "markdown",
   "metadata": {},
   "source": [
    "####  Layer = 6"
   ]
  },
  {
   "cell_type": "code",
   "execution_count": 21,
   "metadata": {},
   "outputs": [
    {
     "name": "stdout",
     "output_type": "stream",
     "text": [
      "Cost after iteration 0: 0.6931654506630607\n",
      "Cost after iteration 1000: 0.19744118842544922\n",
      "Cost after iteration 2000: 0.19744118842544922\n",
      "Cost after iteration 3000: 0.19744118842544922\n",
      "Cost after iteration 4000: 0.19744118842544922\n",
      "Cost after iteration 5000: 0.19744118842544922\n",
      "Cost after iteration 6000: 0.19744118842544922\n",
      "Cost after iteration 7000: 0.19744118842544922\n",
      "Cost after iteration 8000: 0.19744118842544922\n",
      "Cost after iteration 9000: 0.19744118842544922\n"
     ]
    },
    {
     "data": {
      "image/png": "[encoded data removed]",
      "text/plain": [
       "<Figure size 432x288 with 1 Axes>"
      ]
     },
     "metadata": {
      "needs_background": "light"
     },
     "output_type": "display_data"
    },
    {
     "name": "stdout",
     "output_type": "stream",
     "text": [
      "Accuracy = 0.924\n",
      "Accuracy = 0.88\n"
     ]
    }
   ],
   "source": [
    "parameters = model(X_train, Y_train, learning_rate = 0.1, num_iterations = 10000, print_cost = True, lambd = 0.3, h = 6)\n",
    "\n",
    "# accuracy over training set \n",
    "pre_train = predict(X_train,Y_train,parameters)\n",
    "\n",
    "# accuracy over training set \n",
    "pre_test = predict(X_test,Y_test,parameters)"
   ]
  },
  {
   "cell_type": "markdown",
   "metadata": {},
   "source": [
    "####  Layer = 7"
   ]
  },
  {
   "cell_type": "code",
   "execution_count": 22,
   "metadata": {},
   "outputs": [
    {
     "name": "stdout",
     "output_type": "stream",
     "text": [
      "Cost after iteration 0: 0.6931116605219451\n",
      "Cost after iteration 1000: 0.19745317692522377\n",
      "Cost after iteration 2000: 0.19745317692522382\n",
      "Cost after iteration 3000: 0.19745317692522382\n",
      "Cost after iteration 4000: 0.19745317692522382\n",
      "Cost after iteration 5000: 0.19745317692522382\n",
      "Cost after iteration 6000: 0.19745317692522382\n",
      "Cost after iteration 7000: 0.19745317692522382\n",
      "Cost after iteration 8000: 0.19745317692522382\n",
      "Cost after iteration 9000: 0.19745317692522382\n"
     ]
    },
    {
     "data": {
      "image/png": "[encoded data removed]",
      "text/plain": [
       "<Figure size 432x288 with 1 Axes>"
      ]
     },
     "metadata": {
      "needs_background": "light"
     },
     "output_type": "display_data"
    },
    {
     "name": "stdout",
     "output_type": "stream",
     "text": [
      "Accuracy = 0.924\n",
      "Accuracy = 0.88\n"
     ]
    }
   ],
   "source": [
    "parameters = model(X_train, Y_train, learning_rate = 0.1, num_iterations = 10000, print_cost = True, lambd = 0.3, h = 7)\n",
    "\n",
    "# accuracy over training set \n",
    "pre_train = predict(X_train,Y_train,parameters)\n",
    "\n",
    "# accuracy over training set \n",
    "pre_test = predict(X_test,Y_test,parameters)"
   ]
  },
  {
   "cell_type": "markdown",
   "metadata": {},
   "source": [
    "####  Layer = 8"
   ]
  },
  {
   "cell_type": "code",
   "execution_count": 23,
   "metadata": {},
   "outputs": [
    {
     "name": "stdout",
     "output_type": "stream",
     "text": [
      "Cost after iteration 0: 0.6934009336532168\n",
      "Cost after iteration 1000: 0.19745556675492226\n",
      "Cost after iteration 2000: 0.19745556675492237\n",
      "Cost after iteration 3000: 0.19745556675492237\n",
      "Cost after iteration 4000: 0.19745556675492237\n",
      "Cost after iteration 5000: 0.19745556675492237\n",
      "Cost after iteration 6000: 0.19745556675492237\n",
      "Cost after iteration 7000: 0.19745556675492237\n",
      "Cost after iteration 8000: 0.19745556675492237\n",
      "Cost after iteration 9000: 0.19745556675492237\n"
     ]
    },
    {
     "data": {
      "image/png": "[encoded data removed]",
      "text/plain": [
       "<Figure size 432x288 with 1 Axes>"
      ]
     },
     "metadata": {
      "needs_background": "light"
     },
     "output_type": "display_data"
    },
    {
     "name": "stdout",
     "output_type": "stream",
     "text": [
      "Accuracy = 0.924\n",
      "Accuracy = 0.88\n"
     ]
    }
   ],
   "source": [
    "parameters = model(X_train, Y_train, learning_rate = 0.1, num_iterations = 10000, print_cost = True, lambd = 0.3, h = 8)\n",
    "\n",
    "# accuracy over training set \n",
    "pre_train = predict(X_train,Y_train,parameters)\n",
    "\n",
    "# accuracy over training set \n",
    "pre_test = predict(X_test,Y_test,parameters)"
   ]
  },
  {
   "cell_type": "markdown",
   "metadata": {},
   "source": [
    "####  Layer = 9"
   ]
  },
  {
   "cell_type": "code",
   "execution_count": 24,
   "metadata": {},
   "outputs": [
    {
     "name": "stdout",
     "output_type": "stream",
     "text": [
      "Cost after iteration 0: 0.6927912251291621\n",
      "Cost after iteration 1000: 0.19744517545312373\n",
      "Cost after iteration 2000: 0.19744517545312376\n",
      "Cost after iteration 3000: 0.19744517545312376\n",
      "Cost after iteration 4000: 0.19744517545312376\n",
      "Cost after iteration 5000: 0.19744517545312376\n",
      "Cost after iteration 6000: 0.19744517545312376\n",
      "Cost after iteration 7000: 0.19744517545312376\n",
      "Cost after iteration 8000: 0.19744517545312376\n",
      "Cost after iteration 9000: 0.19744517545312376\n"
     ]
    },
    {
     "data": {
      "image/png": "[encoded data removed]",
      "text/plain": [
       "<Figure size 432x288 with 1 Axes>"
      ]
     },
     "metadata": {
      "needs_background": "light"
     },
     "output_type": "display_data"
    },
    {
     "name": "stdout",
     "output_type": "stream",
     "text": [
      "Accuracy = 0.924\n",
      "Accuracy = 0.88\n"
     ]
    }
   ],
   "source": [
    "parameters = model(X_train, Y_train, learning_rate = 0.1, num_iterations = 10000, print_cost = True, lambd = 0.3, h = 9)\n",
    "\n",
    "# accuracy over training set \n",
    "pre_train = predict(X_train,Y_train,parameters)\n",
    "\n",
    "# accuracy over training set \n",
    "pre_test = predict(X_test,Y_test,parameters)"
   ]
  },
  {
   "cell_type": "markdown",
   "metadata": {},
   "source": [
    "####  Layer = 10"
   ]
  },
  {
   "cell_type": "code",
   "execution_count": 25,
   "metadata": {},
   "outputs": [
    {
     "name": "stdout",
     "output_type": "stream",
     "text": [
      "Cost after iteration 0: 0.6929862779684034\n",
      "Cost after iteration 1000: 0.19744082565861792\n",
      "Cost after iteration 2000: 0.19744082565861792\n",
      "Cost after iteration 3000: 0.19744082565861792\n",
      "Cost after iteration 4000: 0.19744082565861792\n",
      "Cost after iteration 5000: 0.19744082565861792\n",
      "Cost after iteration 6000: 0.19744082565861792\n",
      "Cost after iteration 7000: 0.19744082565861792\n",
      "Cost after iteration 8000: 0.19744082565861792\n",
      "Cost after iteration 9000: 0.19744082565861792\n"
     ]
    },
    {
     "data": {
      "image/png": "[encoded data removed]",
      "text/plain": [
       "<Figure size 432x288 with 1 Axes>"
      ]
     },
     "metadata": {
      "needs_background": "light"
     },
     "output_type": "display_data"
    },
    {
     "name": "stdout",
     "output_type": "stream",
     "text": [
      "Accuracy = 0.924\n",
      "Accuracy = 0.88\n"
     ]
    }
   ],
   "source": [
    "parameters = model(X_train, Y_train, learning_rate = 0.1, num_iterations = 10000, print_cost = True, lambd = 0.3, h = 10)\n",
    "\n",
    "# accuracy over training set \n",
    "pre_train = predict(X_train,Y_train,parameters)\n",
    "\n",
    "# accuracy over training set \n",
    "pre_test = predict(X_test,Y_test,parameters)"
   ]
  },
  {
   "cell_type": "markdown",
   "metadata": {},
   "source": [
    "Since the cost and the accuracy of the models with 2 to 10 hidden layers are relatively comparable, I believe the minimum number of hidden layers required are 2. "
   ]
  },
  {
   "cell_type": "code",
   "execution_count": null,
   "metadata": {},
   "outputs": [],
   "source": []
  }
 ],
 "metadata": {
  "kernelspec": {
   "display_name": "Python 3 (ipykernel)",
   "language": "python",
   "name": "python3"
  },
  "language_info": {
   "codemirror_mode": {
    "name": "ipython",
    "version": 3
   },
   "file_extension": ".py",
   "mimetype": "text/x-python",
   "name": "python",
   "nbconvert_exporter": "python",
   "pygments_lexer": "ipython3",
   "version": "3.9.13"
  }
 },
 "nbformat": 4,
 "nbformat_minor": 4
}
